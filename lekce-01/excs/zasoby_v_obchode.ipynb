{
 "cells": [
  {
   "attachments": {},
   "cell_type": "markdown",
   "metadata": {},
   "source": [
    "# Cvičení\n",
    "\n",
    "Uvažuj, že provádíš analýzu stavu zásob v kamenném obchodě. Obchod je otevřený každý všední den, zásoby jsou přivezeny vždy první pracovní den v měsíci. Pro zjednodušení máme záznamy pouze o třech produktech."
   ]
  },
  {
   "cell_type": "code",
   "execution_count": 1,
   "metadata": {},
   "outputs": [
    {
     "data": {
      "text/html": [
       "<div>\n",
       "<style scoped>\n",
       "    .dataframe tbody tr th:only-of-type {\n",
       "        vertical-align: middle;\n",
       "    }\n",
       "\n",
       "    .dataframe tbody tr th {\n",
       "        vertical-align: top;\n",
       "    }\n",
       "\n",
       "    .dataframe thead th {\n",
       "        text-align: right;\n",
       "    }\n",
       "</style>\n",
       "<table border=\"1\" class=\"dataframe\">\n",
       "  <thead>\n",
       "    <tr style=\"text-align: right;\">\n",
       "      <th></th>\n",
       "      <th>date</th>\n",
       "      <th>product_code</th>\n",
       "      <th>quantity</th>\n",
       "    </tr>\n",
       "  </thead>\n",
       "  <tbody>\n",
       "    <tr>\n",
       "      <th>0</th>\n",
       "      <td>2022-01-03</td>\n",
       "      <td>DBR-56</td>\n",
       "      <td>344</td>\n",
       "    </tr>\n",
       "    <tr>\n",
       "      <th>1</th>\n",
       "      <td>2022-01-03</td>\n",
       "      <td>DBR-56</td>\n",
       "      <td>-17</td>\n",
       "    </tr>\n",
       "    <tr>\n",
       "      <th>2</th>\n",
       "      <td>2022-01-03</td>\n",
       "      <td>A35-AC</td>\n",
       "      <td>82</td>\n",
       "    </tr>\n",
       "    <tr>\n",
       "      <th>3</th>\n",
       "      <td>2022-01-03</td>\n",
       "      <td>A35-AC</td>\n",
       "      <td>-5</td>\n",
       "    </tr>\n",
       "    <tr>\n",
       "      <th>4</th>\n",
       "      <td>2022-01-03</td>\n",
       "      <td>DTC-23</td>\n",
       "      <td>197</td>\n",
       "    </tr>\n",
       "  </tbody>\n",
       "</table>\n",
       "</div>"
      ],
      "text/plain": [
       "         date product_code  quantity\n",
       "0  2022-01-03       DBR-56       344\n",
       "1  2022-01-03       DBR-56       -17\n",
       "2  2022-01-03       A35-AC        82\n",
       "3  2022-01-03       A35-AC        -5\n",
       "4  2022-01-03       DTC-23       197"
      ]
     },
     "execution_count": 1,
     "metadata": {},
     "output_type": "execute_result"
    }
   ],
   "source": [
    "import pandas\n",
    "\n",
    "df = pandas.read_csv(\"inventory.csv\")\n",
    "df.head()\n"
   ]
  },
  {
   "attachments": {},
   "cell_type": "markdown",
   "metadata": {},
   "source": [
    "1. Pomocí kumulativního součtu vytvoř v tabulce sloupec, který udává množství každého z produktů na skladě.\n"
   ]
  },
  {
   "cell_type": "code",
   "execution_count": 2,
   "metadata": {},
   "outputs": [
    {
     "data": {
      "text/html": [
       "<div>\n",
       "<style scoped>\n",
       "    .dataframe tbody tr th:only-of-type {\n",
       "        vertical-align: middle;\n",
       "    }\n",
       "\n",
       "    .dataframe tbody tr th {\n",
       "        vertical-align: top;\n",
       "    }\n",
       "\n",
       "    .dataframe thead th {\n",
       "        text-align: right;\n",
       "    }\n",
       "</style>\n",
       "<table border=\"1\" class=\"dataframe\">\n",
       "  <thead>\n",
       "    <tr style=\"text-align: right;\">\n",
       "      <th></th>\n",
       "      <th>date</th>\n",
       "      <th>product_code</th>\n",
       "      <th>quantity</th>\n",
       "      <th>quantity_cumsum</th>\n",
       "    </tr>\n",
       "  </thead>\n",
       "  <tbody>\n",
       "    <tr>\n",
       "      <th>2</th>\n",
       "      <td>2022-01-03</td>\n",
       "      <td>A35-AC</td>\n",
       "      <td>82</td>\n",
       "      <td>82</td>\n",
       "    </tr>\n",
       "    <tr>\n",
       "      <th>3</th>\n",
       "      <td>2022-01-03</td>\n",
       "      <td>A35-AC</td>\n",
       "      <td>-5</td>\n",
       "      <td>77</td>\n",
       "    </tr>\n",
       "    <tr>\n",
       "      <th>7</th>\n",
       "      <td>2022-01-04</td>\n",
       "      <td>A35-AC</td>\n",
       "      <td>-7</td>\n",
       "      <td>70</td>\n",
       "    </tr>\n",
       "    <tr>\n",
       "      <th>10</th>\n",
       "      <td>2022-01-05</td>\n",
       "      <td>A35-AC</td>\n",
       "      <td>-2</td>\n",
       "      <td>68</td>\n",
       "    </tr>\n",
       "    <tr>\n",
       "      <th>13</th>\n",
       "      <td>2022-01-06</td>\n",
       "      <td>A35-AC</td>\n",
       "      <td>-7</td>\n",
       "      <td>61</td>\n",
       "    </tr>\n",
       "  </tbody>\n",
       "</table>\n",
       "</div>"
      ],
      "text/plain": [
       "          date product_code  quantity  quantity_cumsum\n",
       "2   2022-01-03       A35-AC        82               82\n",
       "3   2022-01-03       A35-AC        -5               77\n",
       "7   2022-01-04       A35-AC        -7               70\n",
       "10  2022-01-05       A35-AC        -2               68\n",
       "13  2022-01-06       A35-AC        -7               61"
      ]
     },
     "execution_count": 2,
     "metadata": {},
     "output_type": "execute_result"
    }
   ],
   "source": [
    "df = df.sort_values([\"product_code\", \"date\"])\n",
    "df[\"quantity_cumsum\"] = df.groupby(\"product_code\")[\"quantity\"].cumsum()\n",
    "\n",
    "df.head()\n"
   ]
  },
  {
   "attachments": {},
   "cell_type": "markdown",
   "metadata": {},
   "source": [
    "2. V daném období zažíval obchod problémy se zásobováním a některé zboží tak bylo vyprodané. Zjisti pro každý z produktů, kolik dní v roce byl vyprodaný, tj. kolik dní v roce byl stav zásob 0."
   ]
  },
  {
   "cell_type": "code",
   "execution_count": 3,
   "metadata": {},
   "outputs": [
    {
     "data": {
      "text/plain": [
       "product_code\n",
       "A35-AC    43\n",
       "DBR-56    56\n",
       "dtype: int64"
      ]
     },
     "execution_count": 3,
     "metadata": {},
     "output_type": "execute_result"
    }
   ],
   "source": [
    "df_no_stock = df[df[\"quantity_cumsum\"] == 0]\n",
    "df_no_stock.groupby(\"product_code\").size()\n"
   ]
  },
  {
   "attachments": {},
   "cell_type": "markdown",
   "metadata": {},
   "source": [
    "3. Vytvoř novou tabulku, kde ponecháš pro dané zboží pouze dny, kdy zboží nebylo vyprodáno. Z této tabulky pak spočítej průměrný počet prodaných kusů zboží za den. (Jde nám o to, jaký byl zájem zákazníků o zboží. Dny, kdy bylo zboží vyprodáno, tedy z analýzy vynecháme.)"
   ]
  },
  {
   "cell_type": "code",
   "execution_count": 4,
   "metadata": {},
   "outputs": [
    {
     "data": {
      "text/html": [
       "<div>\n",
       "<style scoped>\n",
       "    .dataframe tbody tr th:only-of-type {\n",
       "        vertical-align: middle;\n",
       "    }\n",
       "\n",
       "    .dataframe tbody tr th {\n",
       "        vertical-align: top;\n",
       "    }\n",
       "\n",
       "    .dataframe thead th {\n",
       "        text-align: right;\n",
       "    }\n",
       "</style>\n",
       "<table border=\"1\" class=\"dataframe\">\n",
       "  <thead>\n",
       "    <tr style=\"text-align: right;\">\n",
       "      <th></th>\n",
       "      <th>date</th>\n",
       "      <th>product_code</th>\n",
       "      <th>quantity</th>\n",
       "      <th>quantity_cumsum</th>\n",
       "    </tr>\n",
       "  </thead>\n",
       "  <tbody>\n",
       "    <tr>\n",
       "      <th>3</th>\n",
       "      <td>2022-01-03</td>\n",
       "      <td>A35-AC</td>\n",
       "      <td>-5</td>\n",
       "      <td>77</td>\n",
       "    </tr>\n",
       "    <tr>\n",
       "      <th>7</th>\n",
       "      <td>2022-01-04</td>\n",
       "      <td>A35-AC</td>\n",
       "      <td>-7</td>\n",
       "      <td>70</td>\n",
       "    </tr>\n",
       "    <tr>\n",
       "      <th>10</th>\n",
       "      <td>2022-01-05</td>\n",
       "      <td>A35-AC</td>\n",
       "      <td>-2</td>\n",
       "      <td>68</td>\n",
       "    </tr>\n",
       "    <tr>\n",
       "      <th>13</th>\n",
       "      <td>2022-01-06</td>\n",
       "      <td>A35-AC</td>\n",
       "      <td>-7</td>\n",
       "      <td>61</td>\n",
       "    </tr>\n",
       "    <tr>\n",
       "      <th>16</th>\n",
       "      <td>2022-01-07</td>\n",
       "      <td>A35-AC</td>\n",
       "      <td>-4</td>\n",
       "      <td>57</td>\n",
       "    </tr>\n",
       "  </tbody>\n",
       "</table>\n",
       "</div>"
      ],
      "text/plain": [
       "          date product_code  quantity  quantity_cumsum\n",
       "3   2022-01-03       A35-AC        -5               77\n",
       "7   2022-01-04       A35-AC        -7               70\n",
       "10  2022-01-05       A35-AC        -2               68\n",
       "13  2022-01-06       A35-AC        -7               61\n",
       "16  2022-01-07       A35-AC        -4               57"
      ]
     },
     "execution_count": 4,
     "metadata": {},
     "output_type": "execute_result"
    }
   ],
   "source": [
    "# Nyní odebírám řádky, kdy není zboží vyprodáno\n",
    "df_is_in_stock = df[df[\"quantity_cumsum\"] > 0]  # na sklade je vice nez 0 \n",
    "\n",
    "# Nyní vybírám řádky, kde je quantity méně nebo rovno 0 - odebírám doplňování zboží\n",
    "df_sales = df_is_in_stock[df_is_in_stock[\"quantity\"] < 0] # jde o prodej, ne o naskladneni\n",
    "\n",
    "df_sales.head()\n"
   ]
  },
  {
   "attachments": {},
   "cell_type": "markdown",
   "metadata": {},
   "source": [
    "4. Pomocí agregace spočítej, kolik bylo v průměru prodáno každého zboží.\n"
   ]
  },
  {
   "cell_type": "code",
   "execution_count": 5,
   "metadata": {},
   "outputs": [
    {
     "data": {
      "text/plain": [
       "product_code\n",
       "A35-AC     4.281106\n",
       "DBR-56    19.323529\n",
       "DTC-23     9.946154\n",
       "Name: quantity, dtype: float64"
      ]
     },
     "execution_count": 5,
     "metadata": {},
     "output_type": "execute_result"
    }
   ],
   "source": [
    "df_sales.groupby(\"product_code\")[\"quantity\"].mean() # * -1\n"
   ]
  }
 ],
 "metadata": {
  "kernelspec": {
   "display_name": "venv",
   "language": "python",
   "name": "python3"
  },
  "language_info": {
   "codemirror_mode": {
    "name": "ipython",
    "version": 3
   },
   "file_extension": ".py",
   "mimetype": "text/x-python",
   "name": "python",
   "nbconvert_exporter": "python",
   "pygments_lexer": "ipython3",
   "version": "3.10.1"
  },
  "orig_nbformat": 4
 },
 "nbformat": 4,
 "nbformat_minor": 2
}
