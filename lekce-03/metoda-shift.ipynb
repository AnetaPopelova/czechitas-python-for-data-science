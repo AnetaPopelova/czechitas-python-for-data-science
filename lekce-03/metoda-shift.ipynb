{
 "cells": [
  {
   "attachments": {},
   "cell_type": "markdown",
   "metadata": {},
   "source": [
    "## Použití metody shift\n",
    "\n",
    "V některých případech se v datech potřebujeme podívat o řádek výše nebo níže, často to může být v souvislosti s datem a časem. Uvažujme například nějaký program, který zapisuje začátek a konec nějaké události. Událost a její typ vždy zapíše jako samostatný řádek. Abychom zjistili délku události, potřebujeme spočítat rozdíl mezi hodnotami data a času ve dvou řádích. K tomu slouží metoda `shift`.\n",
    "\n",
    "Uvažujme například zařízení, které monitoruje výpadky televizního signálu. Zařízení zapisuje záznamy o začátku a konci výpadku do logovacího souboru.\n"
   ]
  },
  {
   "cell_type": "code",
   "execution_count": 2,
   "metadata": {},
   "outputs": [
    {
     "data": {
      "text/html": [
       "<div>\n",
       "<style scoped>\n",
       "    .dataframe tbody tr th:only-of-type {\n",
       "        vertical-align: middle;\n",
       "    }\n",
       "\n",
       "    .dataframe tbody tr th {\n",
       "        vertical-align: top;\n",
       "    }\n",
       "\n",
       "    .dataframe thead th {\n",
       "        text-align: right;\n",
       "    }\n",
       "</style>\n",
       "<table border=\"1\" class=\"dataframe\">\n",
       "  <thead>\n",
       "    <tr style=\"text-align: right;\">\n",
       "      <th></th>\n",
       "      <th>event_type</th>\n",
       "      <th>event_date_time</th>\n",
       "    </tr>\n",
       "  </thead>\n",
       "  <tbody>\n",
       "    <tr>\n",
       "      <th>0</th>\n",
       "      <td>signal lost</td>\n",
       "      <td>2021-02-03 00:40:08</td>\n",
       "    </tr>\n",
       "    <tr>\n",
       "      <th>1</th>\n",
       "      <td>signal restored</td>\n",
       "      <td>2021-02-03 01:14:11</td>\n",
       "    </tr>\n",
       "    <tr>\n",
       "      <th>2</th>\n",
       "      <td>signal lost</td>\n",
       "      <td>2021-02-05 19:14:19</td>\n",
       "    </tr>\n",
       "    <tr>\n",
       "      <th>3</th>\n",
       "      <td>signal restored</td>\n",
       "      <td>2021-02-05 19:46:29</td>\n",
       "    </tr>\n",
       "    <tr>\n",
       "      <th>4</th>\n",
       "      <td>signal lost</td>\n",
       "      <td>2021-02-06 14:31:34</td>\n",
       "    </tr>\n",
       "  </tbody>\n",
       "</table>\n",
       "</div>"
      ],
      "text/plain": [
       "        event_type     event_date_time\n",
       "0      signal lost 2021-02-03 00:40:08\n",
       "1  signal restored 2021-02-03 01:14:11\n",
       "2      signal lost 2021-02-05 19:14:19\n",
       "3  signal restored 2021-02-05 19:46:29\n",
       "4      signal lost 2021-02-06 14:31:34"
      ]
     },
     "execution_count": 2,
     "metadata": {},
     "output_type": "execute_result"
    }
   ],
   "source": [
    "import pandas\n",
    "\n",
    "signal_monitoring = pandas.read_csv(\"signal_monitoring.csv\")\n",
    "signal_monitoring[\"event_date_time\"] = pandas.to_datetime(signal_monitoring[\"event_date_time\"])\n",
    "signal_monitoring.head()"
   ]
  },
  {
   "attachments": {},
   "cell_type": "markdown",
   "metadata": {},
   "source": [
    "Nyní použijeme metodu `shift` na sloupec `event_date_time`. Pomocí metody pak přidáme k tabulce **nový sloupec**. Nejdůležitějším parametrem metody je parametr `periods`, který může mít kladnou nebo zápornou hodnotu.\n",
    "\n",
    "- Kladná hodnota parametru `periods` znamená, že hodnoty budou posunuty směrem dolů.\n",
    "- Záporná hodnota parametru `periods` znamená, že hodnoty budou posunuty směrem nahoru.\n",
    "\n",
    "Pro náš případ bude ideální, pokud posuneme hodnoty sloupce `event_date_time` o jeden řádek směrem nahoru. Tím zajistíme, že pokud má sloupec `event_type` hodnotu `signal lost`, uvidíme v jednom řádku začátek i konec výpadku. Tím padem bude stačit tyto hodnoty od sebe odečíst. Pro `event_type` `signal restored` nebude mít tato hodnota smysl, ale to nevadí, tyto řádky můžeme pomocí dotazu z tabulky odfiltrovat."
   ]
  },
  {
   "cell_type": "code",
   "execution_count": 3,
   "metadata": {},
   "outputs": [
    {
     "data": {
      "text/html": [
       "<div>\n",
       "<style scoped>\n",
       "    .dataframe tbody tr th:only-of-type {\n",
       "        vertical-align: middle;\n",
       "    }\n",
       "\n",
       "    .dataframe tbody tr th {\n",
       "        vertical-align: top;\n",
       "    }\n",
       "\n",
       "    .dataframe thead th {\n",
       "        text-align: right;\n",
       "    }\n",
       "</style>\n",
       "<table border=\"1\" class=\"dataframe\">\n",
       "  <thead>\n",
       "    <tr style=\"text-align: right;\">\n",
       "      <th></th>\n",
       "      <th>event_type</th>\n",
       "      <th>event_date_time</th>\n",
       "      <th>event_end_date_time</th>\n",
       "    </tr>\n",
       "  </thead>\n",
       "  <tbody>\n",
       "    <tr>\n",
       "      <th>0</th>\n",
       "      <td>signal lost</td>\n",
       "      <td>2021-02-03 00:40:08</td>\n",
       "      <td>2021-02-03 01:14:11</td>\n",
       "    </tr>\n",
       "    <tr>\n",
       "      <th>1</th>\n",
       "      <td>signal restored</td>\n",
       "      <td>2021-02-03 01:14:11</td>\n",
       "      <td>2021-02-05 19:14:19</td>\n",
       "    </tr>\n",
       "    <tr>\n",
       "      <th>2</th>\n",
       "      <td>signal lost</td>\n",
       "      <td>2021-02-05 19:14:19</td>\n",
       "      <td>2021-02-05 19:46:29</td>\n",
       "    </tr>\n",
       "    <tr>\n",
       "      <th>3</th>\n",
       "      <td>signal restored</td>\n",
       "      <td>2021-02-05 19:46:29</td>\n",
       "      <td>2021-02-06 14:31:34</td>\n",
       "    </tr>\n",
       "    <tr>\n",
       "      <th>4</th>\n",
       "      <td>signal lost</td>\n",
       "      <td>2021-02-06 14:31:34</td>\n",
       "      <td>2021-02-06 14:48:24</td>\n",
       "    </tr>\n",
       "  </tbody>\n",
       "</table>\n",
       "</div>"
      ],
      "text/plain": [
       "        event_type     event_date_time event_end_date_time\n",
       "0      signal lost 2021-02-03 00:40:08 2021-02-03 01:14:11\n",
       "1  signal restored 2021-02-03 01:14:11 2021-02-05 19:14:19\n",
       "2      signal lost 2021-02-05 19:14:19 2021-02-05 19:46:29\n",
       "3  signal restored 2021-02-05 19:46:29 2021-02-06 14:31:34\n",
       "4      signal lost 2021-02-06 14:31:34 2021-02-06 14:48:24"
      ]
     },
     "execution_count": 3,
     "metadata": {},
     "output_type": "execute_result"
    }
   ],
   "source": [
    "signal_monitoring[\"event_end_date_time\"] = signal_monitoring[\"event_date_time\"].shift(periods=-1)\n",
    "signal_monitoring.head()"
   ]
  },
  {
   "attachments": {},
   "cell_type": "markdown",
   "metadata": {},
   "source": [
    "Nyní odebereme přebytečné řádky."
   ]
  },
  {
   "cell_type": "code",
   "execution_count": 4,
   "metadata": {},
   "outputs": [
    {
     "data": {
      "text/html": [
       "<div>\n",
       "<style scoped>\n",
       "    .dataframe tbody tr th:only-of-type {\n",
       "        vertical-align: middle;\n",
       "    }\n",
       "\n",
       "    .dataframe tbody tr th {\n",
       "        vertical-align: top;\n",
       "    }\n",
       "\n",
       "    .dataframe thead th {\n",
       "        text-align: right;\n",
       "    }\n",
       "</style>\n",
       "<table border=\"1\" class=\"dataframe\">\n",
       "  <thead>\n",
       "    <tr style=\"text-align: right;\">\n",
       "      <th></th>\n",
       "      <th>event_type</th>\n",
       "      <th>event_date_time</th>\n",
       "      <th>event_end_date_time</th>\n",
       "    </tr>\n",
       "  </thead>\n",
       "  <tbody>\n",
       "    <tr>\n",
       "      <th>0</th>\n",
       "      <td>signal lost</td>\n",
       "      <td>2021-02-03 00:40:08</td>\n",
       "      <td>2021-02-03 01:14:11</td>\n",
       "    </tr>\n",
       "    <tr>\n",
       "      <th>2</th>\n",
       "      <td>signal lost</td>\n",
       "      <td>2021-02-05 19:14:19</td>\n",
       "      <td>2021-02-05 19:46:29</td>\n",
       "    </tr>\n",
       "    <tr>\n",
       "      <th>4</th>\n",
       "      <td>signal lost</td>\n",
       "      <td>2021-02-06 14:31:34</td>\n",
       "      <td>2021-02-06 14:48:24</td>\n",
       "    </tr>\n",
       "    <tr>\n",
       "      <th>6</th>\n",
       "      <td>signal lost</td>\n",
       "      <td>2021-02-08 04:59:20</td>\n",
       "      <td>2021-02-08 05:38:29</td>\n",
       "    </tr>\n",
       "    <tr>\n",
       "      <th>8</th>\n",
       "      <td>signal lost</td>\n",
       "      <td>2021-02-09 14:21:25</td>\n",
       "      <td>2021-02-09 14:42:22</td>\n",
       "    </tr>\n",
       "  </tbody>\n",
       "</table>\n",
       "</div>"
      ],
      "text/plain": [
       "    event_type     event_date_time event_end_date_time\n",
       "0  signal lost 2021-02-03 00:40:08 2021-02-03 01:14:11\n",
       "2  signal lost 2021-02-05 19:14:19 2021-02-05 19:46:29\n",
       "4  signal lost 2021-02-06 14:31:34 2021-02-06 14:48:24\n",
       "6  signal lost 2021-02-08 04:59:20 2021-02-08 05:38:29\n",
       "8  signal lost 2021-02-09 14:21:25 2021-02-09 14:42:22"
      ]
     },
     "execution_count": 4,
     "metadata": {},
     "output_type": "execute_result"
    }
   ],
   "source": [
    "signal_monitoring = signal_monitoring[signal_monitoring[\"event_type\"] == \"signal lost\"]\n",
    "signal_monitoring.head()"
   ]
  },
  {
   "attachments": {},
   "cell_type": "markdown",
   "metadata": {},
   "source": [
    "Nyní můžeme snadno přidat výpočet délky výpadku signálu."
   ]
  },
  {
   "cell_type": "code",
   "execution_count": 5,
   "metadata": {},
   "outputs": [
    {
     "data": {
      "text/html": [
       "<div>\n",
       "<style scoped>\n",
       "    .dataframe tbody tr th:only-of-type {\n",
       "        vertical-align: middle;\n",
       "    }\n",
       "\n",
       "    .dataframe tbody tr th {\n",
       "        vertical-align: top;\n",
       "    }\n",
       "\n",
       "    .dataframe thead th {\n",
       "        text-align: right;\n",
       "    }\n",
       "</style>\n",
       "<table border=\"1\" class=\"dataframe\">\n",
       "  <thead>\n",
       "    <tr style=\"text-align: right;\">\n",
       "      <th></th>\n",
       "      <th>event_type</th>\n",
       "      <th>event_date_time</th>\n",
       "      <th>event_end_date_time</th>\n",
       "      <th>outage_length</th>\n",
       "    </tr>\n",
       "  </thead>\n",
       "  <tbody>\n",
       "    <tr>\n",
       "      <th>0</th>\n",
       "      <td>signal lost</td>\n",
       "      <td>2021-02-03 00:40:08</td>\n",
       "      <td>2021-02-03 01:14:11</td>\n",
       "      <td>0 days 00:34:03</td>\n",
       "    </tr>\n",
       "    <tr>\n",
       "      <th>2</th>\n",
       "      <td>signal lost</td>\n",
       "      <td>2021-02-05 19:14:19</td>\n",
       "      <td>2021-02-05 19:46:29</td>\n",
       "      <td>0 days 00:32:10</td>\n",
       "    </tr>\n",
       "    <tr>\n",
       "      <th>4</th>\n",
       "      <td>signal lost</td>\n",
       "      <td>2021-02-06 14:31:34</td>\n",
       "      <td>2021-02-06 14:48:24</td>\n",
       "      <td>0 days 00:16:50</td>\n",
       "    </tr>\n",
       "    <tr>\n",
       "      <th>6</th>\n",
       "      <td>signal lost</td>\n",
       "      <td>2021-02-08 04:59:20</td>\n",
       "      <td>2021-02-08 05:38:29</td>\n",
       "      <td>0 days 00:39:09</td>\n",
       "    </tr>\n",
       "    <tr>\n",
       "      <th>8</th>\n",
       "      <td>signal lost</td>\n",
       "      <td>2021-02-09 14:21:25</td>\n",
       "      <td>2021-02-09 14:42:22</td>\n",
       "      <td>0 days 00:20:57</td>\n",
       "    </tr>\n",
       "  </tbody>\n",
       "</table>\n",
       "</div>"
      ],
      "text/plain": [
       "    event_type     event_date_time event_end_date_time   outage_length\n",
       "0  signal lost 2021-02-03 00:40:08 2021-02-03 01:14:11 0 days 00:34:03\n",
       "2  signal lost 2021-02-05 19:14:19 2021-02-05 19:46:29 0 days 00:32:10\n",
       "4  signal lost 2021-02-06 14:31:34 2021-02-06 14:48:24 0 days 00:16:50\n",
       "6  signal lost 2021-02-08 04:59:20 2021-02-08 05:38:29 0 days 00:39:09\n",
       "8  signal lost 2021-02-09 14:21:25 2021-02-09 14:42:22 0 days 00:20:57"
      ]
     },
     "execution_count": 5,
     "metadata": {},
     "output_type": "execute_result"
    }
   ],
   "source": [
    "signal_monitoring[\"outage_length\"] = signal_monitoring[\"event_end_date_time\"] - signal_monitoring[\"event_date_time\"]\n",
    "signal_monitoring.head()"
   ]
  },
  {
   "attachments": {},
   "cell_type": "markdown",
   "metadata": {},
   "source": [
    "Nyní můžeme například vypočítat celkovou délku výpadků signálu v jednotlivých dnech."
   ]
  },
  {
   "cell_type": "code",
   "execution_count": 6,
   "metadata": {},
   "outputs": [
    {
     "data": {
      "text/plain": [
       "event_date_time\n",
       "2021-02-03   0 days 00:34:03\n",
       "2021-02-05   0 days 00:32:10\n",
       "2021-02-06   0 days 00:16:50\n",
       "2021-02-08   0 days 00:39:09\n",
       "2021-02-09   0 days 00:44:38\n",
       "Name: outage_length, dtype: timedelta64[ns]"
      ]
     },
     "execution_count": 6,
     "metadata": {},
     "output_type": "execute_result"
    }
   ],
   "source": [
    "signal_monitoring_grouped = signal_monitoring.groupby(signal_monitoring[\"event_date_time\"].dt.date)[\"outage_length\"].sum()\n",
    "signal_monitoring_grouped.head()"
   ]
  },
  {
   "attachments": {},
   "cell_type": "markdown",
   "metadata": {},
   "source": [
    "Jako poslední krok si ukážeme, jak prezentovat výsledky našeho výpočtu pomocí grafu. Abychom mohli použít sloupcový graf, musíme převést typ `timedelta` na číselnou hodnotu. To zařídíme pomocí vlastnosti `dt.total_seconds`."
   ]
  },
  {
   "cell_type": "code",
   "execution_count": 7,
   "metadata": {},
   "outputs": [
    {
     "data": {
      "text/plain": [
       "<AxesSubplot:xlabel='event_date_time'>"
      ]
     },
     "execution_count": 7,
     "metadata": {},
     "output_type": "execute_result"
    },
    {
     "data": {
      "image/png": "[encoded data removed]",
      "text/plain": [
       "<Figure size 432x288 with 1 Axes>"
      ]
     },
     "metadata": {
      "needs_background": "light"
     },
     "output_type": "display_data"
    }
   ],
   "source": [
    "signal_monitoring_grouped_seconds = signal_monitoring_grouped.dt.total_seconds()\n",
    "signal_monitoring_grouped_seconds.plot(kind=\"bar\")"
   ]
  }
 ],
 "metadata": {
  "kernelspec": {
   "display_name": "venv",
   "language": "python",
   "name": "python3"
  },
  "language_info": {
   "codemirror_mode": {
    "name": "ipython",
    "version": 3
   },
   "file_extension": ".py",
   "mimetype": "text/x-python",
   "name": "python",
   "nbconvert_exporter": "python",
   "pygments_lexer": "ipython3",
   "version": "3.10.1"
  },
  "orig_nbformat": 4
 },
 "nbformat": 4,
 "nbformat_minor": 2
}
