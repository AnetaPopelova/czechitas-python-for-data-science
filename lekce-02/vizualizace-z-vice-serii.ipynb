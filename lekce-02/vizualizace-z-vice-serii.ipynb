{
 "cells": [
  {
   "attachments": {},
   "cell_type": "markdown",
   "metadata": {
    "collapsed": false
   },
   "source": [
    "# Vytvoření vizualizace z více sérií\n",
    "\n",
    "Nyní vytvoříme graf pro prezentaci výsledků. Můžeme např. zkombinovat čárový a sloupcový graf, kde čárový graf obsahuje plán tržeb a sloupcový skutečné tržby. Po prvním příkazu uložíme výsledek do proměnné `ax`. Metoda `.plot()` totiž vrací odkaz na vygenerovaný graf, abychom do něj mohli přidávat další data nebo jej dále upravovat. Ve druhém příkazu zadáme parametr `ax` a vložíme mu jako hodnotu graf `ax`. Tím říkáme, aby modul nevytvářel nový graf, ale vložil druhý (čárový) graf k prvnímu (sloupcovému).\n",
    "\n",
    "Budeme potřebovat data [sales_actual.csv](sales_actual.csv) a [sales_plan.csv](sales_plan.csv), která jsme používali už v první lekci."
   ]
  },
  {
   "cell_type": "code",
   "execution_count": 3,
   "metadata": {},
   "outputs": [
    {
     "data": {
      "text/html": [
       "<div>\n",
       "<style scoped>\n",
       "    .dataframe tbody tr th:only-of-type {\n",
       "        vertical-align: middle;\n",
       "    }\n",
       "\n",
       "    .dataframe tbody tr th {\n",
       "        vertical-align: top;\n",
       "    }\n",
       "\n",
       "    .dataframe thead th {\n",
       "        text-align: right;\n",
       "    }\n",
       "</style>\n",
       "<table border=\"1\" class=\"dataframe\">\n",
       "  <thead>\n",
       "    <tr style=\"text-align: right;\">\n",
       "      <th></th>\n",
       "      <th>index</th>\n",
       "      <th>year</th>\n",
       "      <th>month</th>\n",
       "      <th>sales</th>\n",
       "      <th>sales_plan_cumsum</th>\n",
       "      <th>contract_value</th>\n",
       "      <th>sales_actual_cumsum</th>\n",
       "    </tr>\n",
       "  </thead>\n",
       "  <tbody>\n",
       "    <tr>\n",
       "      <th>0</th>\n",
       "      <td>12</td>\n",
       "      <td>2022</td>\n",
       "      <td>1</td>\n",
       "      <td>12000000.0</td>\n",
       "      <td>12000000.0</td>\n",
       "      <td>9798565.4</td>\n",
       "      <td>9798565.4</td>\n",
       "    </tr>\n",
       "    <tr>\n",
       "      <th>1</th>\n",
       "      <td>13</td>\n",
       "      <td>2022</td>\n",
       "      <td>2</td>\n",
       "      <td>9000000.0</td>\n",
       "      <td>21000000.0</td>\n",
       "      <td>11314932.2</td>\n",
       "      <td>21113497.6</td>\n",
       "    </tr>\n",
       "    <tr>\n",
       "      <th>2</th>\n",
       "      <td>14</td>\n",
       "      <td>2022</td>\n",
       "      <td>3</td>\n",
       "      <td>9000000.0</td>\n",
       "      <td>30000000.0</td>\n",
       "      <td>13173404.4</td>\n",
       "      <td>34286902.0</td>\n",
       "    </tr>\n",
       "    <tr>\n",
       "      <th>3</th>\n",
       "      <td>15</td>\n",
       "      <td>2022</td>\n",
       "      <td>4</td>\n",
       "      <td>11000000.0</td>\n",
       "      <td>41000000.0</td>\n",
       "      <td>12718895.8</td>\n",
       "      <td>47005797.8</td>\n",
       "    </tr>\n",
       "    <tr>\n",
       "      <th>4</th>\n",
       "      <td>16</td>\n",
       "      <td>2022</td>\n",
       "      <td>5</td>\n",
       "      <td>11000000.0</td>\n",
       "      <td>52000000.0</td>\n",
       "      <td>9546852.9</td>\n",
       "      <td>56552650.7</td>\n",
       "    </tr>\n",
       "  </tbody>\n",
       "</table>\n",
       "</div>"
      ],
      "text/plain": [
       "   index  year  month       sales  sales_plan_cumsum  contract_value  \\\n",
       "0     12  2022      1  12000000.0         12000000.0       9798565.4   \n",
       "1     13  2022      2   9000000.0         21000000.0      11314932.2   \n",
       "2     14  2022      3   9000000.0         30000000.0      13173404.4   \n",
       "3     15  2022      4  11000000.0         41000000.0      12718895.8   \n",
       "4     16  2022      5  11000000.0         52000000.0       9546852.9   \n",
       "\n",
       "   sales_actual_cumsum  \n",
       "0            9798565.4  \n",
       "1           21113497.6  \n",
       "2           34286902.0  \n",
       "3           47005797.8  \n",
       "4           56552650.7  "
      ]
     },
     "execution_count": 3,
     "metadata": {},
     "output_type": "execute_result"
    }
   ],
   "source": [
    "import pandas\n",
    "\n",
    "# Tento kód je z minulé lekce\n",
    "df_plan = pandas.read_csv(\"sales_plan.csv\")\n",
    "df_plan[\"sales_plan_cumsum\"] = df_plan.groupby(\"year\")[\"sales\"].cumsum()\n",
    "df_actual = pandas.read_csv(\"sales_actual.csv\")\n",
    "df_actual = df_actual.sort_values(\"date\")\n",
    "df_actual[\"date\"] = pandas.to_datetime(df_actual[\"date\"])\n",
    "df_actual[\"month\"] = df_actual[\"date\"].dt.month\n",
    "df_actual[\"year\"] = df_actual[\"date\"].dt.year\n",
    "df_actual_grouped = df_actual.groupby([\"year\", \"month\"]).sum(numeric_only=True)\n",
    "df_actual_grouped[\"sales_actual_cumsum\"] = df_actual_grouped.groupby(\"year\")[\"contract_value\"].cumsum()\n",
    "df_merged = pandas.merge(df_plan, df_actual_grouped, on=[\"month\", \"year\"])\n",
    "\n",
    "year = 2022\n",
    "df_merged_plot = df_merged[df_merged[\"year\"] == year]\n",
    "df_merged_plot = df_merged_plot.reset_index()\n",
    "df_merged_plot.head()"
   ]
  },
  {
   "cell_type": "code",
   "execution_count": 17,
   "metadata": {},
   "outputs": [
    {
     "data": {
      "text/plain": [
       "<matplotlib.legend.Legend at 0x15585c280>"
      ]
     },
     "execution_count": 17,
     "metadata": {},
     "output_type": "execute_result"
    },
    {
     "data": {
      "image/png": "[encoded data removed]",
      "text/plain": [
       "<Figure size 432x288 with 1 Axes>"
      ]
     },
     "metadata": {
      "needs_background": "light"
     },
     "output_type": "display_data"
    }
   ],
   "source": [
    "import matplotlib.pyplot as plt\n",
    "\n",
    "# Sloupcový graf skutečných tržeb\n",
    "ax = df_merged_plot[\"sales_plan_cumsum\"].plot(color=\"red\", title=\"Skutečné vs plánované tržby\")\n",
    "# Čárový graf plánovaných tržeb\n",
    "df_merged_plot[\"sales_actual_cumsum\"].plot(kind=\"bar\", ax=ax)\n",
    "# Popisky pro legendu grafu\n",
    "plt.legend(['Plán tržeb', \"Skutečné tržby\"])"
   ]
  },
  {
   "cell_type": "markdown",
   "metadata": {},
   "source": [
    "Z popisků osy X ale není jasné, jakého období se týká. Provo v tabulce vytvoříme sloupec, který bude označovat časové období a bude obsahovat číslo měsíce a rok (např. `1/2022`). Abychom si následně usnadnili vytvoření grafu, nastavíme tento sloupec jako index. K tomu využijeme metodu `set_index()`."
   ]
  },
  {
   "cell_type": "code",
   "execution_count": 5,
   "metadata": {},
   "outputs": [
    {
     "data": {
      "text/html": [
       "<div>\n",
       "<style scoped>\n",
       "    .dataframe tbody tr th:only-of-type {\n",
       "        vertical-align: middle;\n",
       "    }\n",
       "\n",
       "    .dataframe tbody tr th {\n",
       "        vertical-align: top;\n",
       "    }\n",
       "\n",
       "    .dataframe thead th {\n",
       "        text-align: right;\n",
       "    }\n",
       "</style>\n",
       "<table border=\"1\" class=\"dataframe\">\n",
       "  <thead>\n",
       "    <tr style=\"text-align: right;\">\n",
       "      <th></th>\n",
       "      <th>index</th>\n",
       "      <th>year</th>\n",
       "      <th>month</th>\n",
       "      <th>sales</th>\n",
       "      <th>sales_plan_cumsum</th>\n",
       "      <th>contract_value</th>\n",
       "      <th>sales_actual_cumsum</th>\n",
       "    </tr>\n",
       "    <tr>\n",
       "      <th>period</th>\n",
       "      <th></th>\n",
       "      <th></th>\n",
       "      <th></th>\n",
       "      <th></th>\n",
       "      <th></th>\n",
       "      <th></th>\n",
       "      <th></th>\n",
       "    </tr>\n",
       "  </thead>\n",
       "  <tbody>\n",
       "    <tr>\n",
       "      <th>1/2022</th>\n",
       "      <td>12</td>\n",
       "      <td>2022</td>\n",
       "      <td>1</td>\n",
       "      <td>12000000.0</td>\n",
       "      <td>12000000.0</td>\n",
       "      <td>9798565.4</td>\n",
       "      <td>9798565.4</td>\n",
       "    </tr>\n",
       "    <tr>\n",
       "      <th>2/2022</th>\n",
       "      <td>13</td>\n",
       "      <td>2022</td>\n",
       "      <td>2</td>\n",
       "      <td>9000000.0</td>\n",
       "      <td>21000000.0</td>\n",
       "      <td>11314932.2</td>\n",
       "      <td>21113497.6</td>\n",
       "    </tr>\n",
       "    <tr>\n",
       "      <th>3/2022</th>\n",
       "      <td>14</td>\n",
       "      <td>2022</td>\n",
       "      <td>3</td>\n",
       "      <td>9000000.0</td>\n",
       "      <td>30000000.0</td>\n",
       "      <td>13173404.4</td>\n",
       "      <td>34286902.0</td>\n",
       "    </tr>\n",
       "    <tr>\n",
       "      <th>4/2022</th>\n",
       "      <td>15</td>\n",
       "      <td>2022</td>\n",
       "      <td>4</td>\n",
       "      <td>11000000.0</td>\n",
       "      <td>41000000.0</td>\n",
       "      <td>12718895.8</td>\n",
       "      <td>47005797.8</td>\n",
       "    </tr>\n",
       "    <tr>\n",
       "      <th>5/2022</th>\n",
       "      <td>16</td>\n",
       "      <td>2022</td>\n",
       "      <td>5</td>\n",
       "      <td>11000000.0</td>\n",
       "      <td>52000000.0</td>\n",
       "      <td>9546852.9</td>\n",
       "      <td>56552650.7</td>\n",
       "    </tr>\n",
       "  </tbody>\n",
       "</table>\n",
       "</div>"
      ],
      "text/plain": [
       "        index  year  month       sales  sales_plan_cumsum  contract_value  \\\n",
       "period                                                                      \n",
       "1/2022     12  2022      1  12000000.0         12000000.0       9798565.4   \n",
       "2/2022     13  2022      2   9000000.0         21000000.0      11314932.2   \n",
       "3/2022     14  2022      3   9000000.0         30000000.0      13173404.4   \n",
       "4/2022     15  2022      4  11000000.0         41000000.0      12718895.8   \n",
       "5/2022     16  2022      5  11000000.0         52000000.0       9546852.9   \n",
       "\n",
       "        sales_actual_cumsum  \n",
       "period                       \n",
       "1/2022            9798565.4  \n",
       "2/2022           21113497.6  \n",
       "3/2022           34286902.0  \n",
       "4/2022           47005797.8  \n",
       "5/2022           56552650.7  "
      ]
     },
     "execution_count": 5,
     "metadata": {},
     "output_type": "execute_result"
    }
   ],
   "source": [
    "# Přidáme nový sloupec\n",
    "df_merged_plot[\"period\"] = df_merged_plot[\"month\"].astype(str) + \"/\" + df_merged_plot[\"year\"].astype(str)\n",
    "# Nastavíme index\n",
    "df_merged_plot = df_merged_plot.set_index(\"period\")\n",
    "df_merged_plot.head()"
   ]
  },
  {
   "cell_type": "code",
   "execution_count": 6,
   "metadata": {},
   "outputs": [
    {
     "data": {
      "text/plain": [
       "Text(0.5, 0, 'Období')"
      ]
     },
     "execution_count": 6,
     "metadata": {},
     "output_type": "execute_result"
    },
    {
     "data": {
      "image/png": "[encoded data removed]",
      "text/plain": [
       "<Figure size 432x288 with 1 Axes>"
      ]
     },
     "metadata": {
      "needs_background": "light"
     },
     "output_type": "display_data"
    }
   ],
   "source": [
    "ax = df_merged_plot[\"sales_plan_cumsum\"].plot(color=\"red\", title=\"Skutečné vs plánované tržby\")\n",
    "df_merged_plot[\"sales_actual_cumsum\"].plot(kind=\"bar\", ax=ax)\n",
    "plt.legend(['Plán tržeb', \"Skutečné tržby\"])\n",
    "plt.ylabel(\"Miliony EUR\")\n",
    "plt.xlabel(\"Období\")"
   ]
  }
 ],
 "metadata": {
  "kernelspec": {
   "display_name": "Python 3",
   "language": "python",
   "name": "python3"
  },
  "language_info": {
   "codemirror_mode": {
    "name": "ipython",
    "version": 3
   },
   "file_extension": ".py",
   "mimetype": "text/x-python",
   "name": "python",
   "nbconvert_exporter": "python",
   "pygments_lexer": "ipython3",
   "version": "3.9.6"
  }
 },
 "nbformat": 4,
 "nbformat_minor": 0
}
