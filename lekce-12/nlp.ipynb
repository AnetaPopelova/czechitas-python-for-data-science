{
 "cells": [
  {
   "attachments": {},
   "cell_type": "markdown",
   "metadata": {},
   "source": [
    "# Lekce 12"
   ]
  },
  {
   "cell_type": "code",
   "execution_count": 1,
   "metadata": {},
   "outputs": [],
   "source": [
    "import pandas\n",
    "import requests\n",
    "import numpy\n",
    "\n",
    "\n",
    "from sklearn.svm import LinearSVC\n",
    "from sklearn.pipeline import Pipeline\n",
    "from sklearn.neighbors import KNeighborsClassifier\n",
    "from sklearn.model_selection import train_test_split, GridSearchCV\n",
    "from sklearn.feature_extraction.text import CountVectorizer, TfidfVectorizer\n",
    "from sklearn.metrics import ConfusionMatrixDisplay\n",
    "from sklearn.metrics import (\n",
    "    confusion_matrix,\n",
    "    ConfusionMatrixDisplay,\n",
    "    f1_score,\n",
    "    accuracy_score,\n",
    ")"
   ]
  },
  {
   "attachments": {},
   "cell_type": "markdown",
   "metadata": {},
   "source": [
    "## Co to je NLP\n",
    "Práce s přirozeným jazykem je odlišná od práce s jinými daty, a proto si zaslouží vlastní skupinu technik a algoritmů - NLP (Natural Language Processing). Ne všechny úlohy NLP se musí řešit pomocí strojového učení, ale v dnešní době tomu tak většinou je. Příklady úloh, které spadají do NLP jsou například:\n",
    "\n",
    "- Strojový překlad (text v angličtině => text v češtině)\n",
    "- Rozpoznávání řeči (řeč v češtině => text v češtině)\n",
    "- Syntéza řeči (text v češtině > řeč v češtině)\n",
    "- Klasifikace textu\n",
    "\n",
    "Tyto úlohy určitě znáte i z běžného života. Další úlohy, které řeší NLP, a nacházejí se často \"pod kapotou\" jiných systémů, jsou například:\n",
    "\n",
    "- Rozpoznávání pojmenovaných entit (NER, Named Entity Recognition): Pojmenované entity jsou výrazy, které označují jména, místa, data, názvy, ... Jaké pojmenované entity bychom mohli označit například ve větě _Král Karel si v Londýně včera zašel do kavárny Starbucks._ ?\n",
    "- Určování slovních druhů (POS tagging, Part-of-speech tagging)\n",
    "- Zjednodušení textu, shrnutí textu\n",
    "- Určení významu slova (WSD, Word Sense Disambiguation): Při dvou významech slova _kolej_ (studentské ubytování, železniční dráha), který z nich je zachycený větou _Včera proběhl na koleji večírek._ ?\n",
    "\n",
    "### Reprezentace textových dat\n",
    "\n",
    "Naše datasety doposud obsahovaly proměnné, a datové body (pozorování) reprezentované pomocí těchto proměnných. Například u vzorku vody jsme dostali proměnné na základě chemického rozboru. U textových dat většinou dostaneme syrovější podobu dat, nikoliv proměnné. Jako kdybychom dostali vzorky vody, a sami museli provést chemickou analýzu.\n",
    "\n",
    "Obecně řečeno, i v případě textu budeme jednotlivá pozorování nebo datové body reprezentovat pomocí číselných hodnot vstupních proměnných. Co ale budou tyto proměnné, označené v obrázku jako barvy, reprezentovat?\n",
    "\n",
    "K reprezentování dat můžeme využít `CountVectorizer`. Ten vytvoří matici, kde každé slovo je reprezentováno jedním sloupcem a každý text ve vstupních datech jedním řádkem. Jeho fungování si nejprve ukážeme na jednoduchých datech, kde 4 uživatelé a uživatelky diskusního fóra vyjádřili své názory na jazyk Python. Celkem máme 4 diskusní příspěvky. Naším úkolem by bylo provést analýzu textu, která zjistí, kolik uživatelů (uživatelek) má k Pythonu kladný vztah a kolik záporný. Tento typ úloh je často označován jako analýza sentimentu (*sentiment analysis*).\n",
    "\n",
    "Níže vidíme pole, které má 8 sloupců (v datech je totiž 8 unikátních slov) a 4 řádky (v datech jsou 4 řetězce). Pomocí metody `vec.get_feature_names_out()` si můžeme zobrazit popisky sloupců."
   ]
  },
  {
   "cell_type": "code",
   "execution_count": 2,
   "metadata": {},
   "outputs": [
    {
     "data": {
      "text/plain": [
       "array([[0, 1, 0, 1, 0, 0, 1, 0],\n",
       "       [0, 0, 0, 0, 0, 1, 1, 0],\n",
       "       [1, 0, 0, 1, 1, 0, 1, 1],\n",
       "       [0, 0, 1, 0, 0, 0, 1, 0]])"
      ]
     },
     "execution_count": 2,
     "metadata": {},
     "output_type": "execute_result"
    }
   ],
   "source": [
    "X = [\"Python is great\", \"I like Python\", \"Python is the best language\", \"I hate Python\"]\n",
    "vec = CountVectorizer()\n",
    "X = vec.fit_transform(X)\n",
    "X = X.toarray()\n",
    "X"
   ]
  },
  {
   "cell_type": "code",
   "execution_count": 3,
   "metadata": {},
   "outputs": [
    {
     "data": {
      "text/plain": [
       "array(['best', 'great', 'hate', 'is', 'language', 'like', 'python', 'the'],\n",
       "      dtype=object)"
      ]
     },
     "execution_count": 3,
     "metadata": {},
     "output_type": "execute_result"
    }
   ],
   "source": [
    "vec.get_feature_names_out()"
   ]
  },
  {
   "attachments": {},
   "cell_type": "markdown",
   "metadata": {},
   "source": [
    "Pro větší přehlednost si můžeme převést data do pandas tabulky. Vidíme například, že slovo `great` má hodnotu `1` pro řádek `0` (dokument na nulté pozici při počítání od 0). V datech vidíme, že slovo `great` se v něm skutečně vyskytuje. Ve všech ostatních příspěvcích se toto slovo nevyskytuje, proto mají ostatní řádky v tom sloupci hodnotu `0`."
   ]
  },
  {
   "cell_type": "code",
   "execution_count": 4,
   "metadata": {},
   "outputs": [
    {
     "data": {
      "text/html": [
       "<div>\n",
       "<style scoped>\n",
       "    .dataframe tbody tr th:only-of-type {\n",
       "        vertical-align: middle;\n",
       "    }\n",
       "\n",
       "    .dataframe tbody tr th {\n",
       "        vertical-align: top;\n",
       "    }\n",
       "\n",
       "    .dataframe thead th {\n",
       "        text-align: right;\n",
       "    }\n",
       "</style>\n",
       "<table border=\"1\" class=\"dataframe\">\n",
       "  <thead>\n",
       "    <tr style=\"text-align: right;\">\n",
       "      <th></th>\n",
       "      <th>best</th>\n",
       "      <th>great</th>\n",
       "      <th>hate</th>\n",
       "      <th>is</th>\n",
       "      <th>language</th>\n",
       "      <th>like</th>\n",
       "      <th>python</th>\n",
       "      <th>the</th>\n",
       "    </tr>\n",
       "  </thead>\n",
       "  <tbody>\n",
       "    <tr>\n",
       "      <th>0</th>\n",
       "      <td>0</td>\n",
       "      <td>1</td>\n",
       "      <td>0</td>\n",
       "      <td>1</td>\n",
       "      <td>0</td>\n",
       "      <td>0</td>\n",
       "      <td>1</td>\n",
       "      <td>0</td>\n",
       "    </tr>\n",
       "    <tr>\n",
       "      <th>1</th>\n",
       "      <td>0</td>\n",
       "      <td>0</td>\n",
       "      <td>0</td>\n",
       "      <td>0</td>\n",
       "      <td>0</td>\n",
       "      <td>1</td>\n",
       "      <td>1</td>\n",
       "      <td>0</td>\n",
       "    </tr>\n",
       "    <tr>\n",
       "      <th>2</th>\n",
       "      <td>1</td>\n",
       "      <td>0</td>\n",
       "      <td>0</td>\n",
       "      <td>1</td>\n",
       "      <td>1</td>\n",
       "      <td>0</td>\n",
       "      <td>1</td>\n",
       "      <td>1</td>\n",
       "    </tr>\n",
       "    <tr>\n",
       "      <th>3</th>\n",
       "      <td>0</td>\n",
       "      <td>0</td>\n",
       "      <td>1</td>\n",
       "      <td>0</td>\n",
       "      <td>0</td>\n",
       "      <td>0</td>\n",
       "      <td>1</td>\n",
       "      <td>0</td>\n",
       "    </tr>\n",
       "  </tbody>\n",
       "</table>\n",
       "</div>"
      ],
      "text/plain": [
       "   best  great  hate  is  language  like  python  the\n",
       "0     0      1     0   1         0     0       1    0\n",
       "1     0      0     0   0         0     1       1    0\n",
       "2     1      0     0   1         1     0       1    1\n",
       "3     0      0     1   0         0     0       1    0"
      ]
     },
     "execution_count": 4,
     "metadata": {},
     "output_type": "execute_result"
    }
   ],
   "source": [
    "df = pandas.DataFrame(X, columns=vec.get_feature_names_out())\n",
    "df"
   ]
  },
  {
   "attachments": {},
   "cell_type": "markdown",
   "metadata": {},
   "source": [
    "Pokud se na slova podíváme, dokázali bychom je rozdělit na několik skupin:\n",
    "\n",
    "- slova, která naznačují kladný vztah (best, great, v tomto případě i slovo like, ale u něj to tak nemusí být vždy),\n",
    "- slova, která naznačují negativní vztah (hate),\n",
    "- slova, která nenaznačují ani jedno (is, language, python, the).\n",
    "\n",
    "Obecně bychom pak mohli říci, že vysoký počet \"pozitivní slov\" vede spíše k tomu, že celý komentář je zamýšlen pozitivně, a vysoký počet \"negativních slov\" vede k tomu, že celý komentář je negativní. Tento postup určitě není dokonalý (např. nerozpozná sarkasmus), ale umožní nám využít algoritmy, které už známe.\n",
    "\n",
    "Uvažujme dále, že v jazyce je obrovské množství slov a my je nechceme ručně třídit. Na internetu ale můžeme najít datové sady, které obsahují nějaký text a k tomu označení, zda je text celkově pozitivní nebo negativní. Například u recenzí často lidé vyplňují textový komentář i hodnocení na nějaké škále (např. 1 až 5 hvězd). Můžeme pak použít supervised learning (učení s učitelem) a \"ohodnotit\" jednotlivá slova (nebo skupiny slov) jako pozitivní nebo negativní."
   ]
  },
  {
   "attachments": {},
   "cell_type": "markdown",
   "metadata": {},
   "source": [
    "Analýza sentimentu ale není jediná úloha, která funguje na tomto principu. Obecně můžeme třídit dokumenty do skupin například v systémech uživatelské podpory (stěžuje si uživatel na problémy s internetem, chce levnější tarif, chce si aktivovat roaming?), při třídění článků do rubrik atd.\n",
    "\n",
    "Pojďme si nyní načíst dataset, se [kterým budeme dneska pracovat](movies.csv). Jedná se o databázi popisů filmů ze serveru IMDB. K dispozici máme název filmu, jeho žánr (to bude naše výstupní proměnná), a text popisku filmu. Text popisku budeme chtít převést na naše vstupní proměnné. Pokud bychom dobře ohodnotili jednotlivé slova, můžeme pak podle jejich počtu v dokumentu odhadnout, jaké je celkové vyznění zprávy.\n",
    "\n",
    "Naším úkolem bude odhadnout žánr filmu, ke kterému popis patří. V datech máme název filmu, žánr a textový popis. Naším úkolem bude vytvořit model, který dokáže zařadit film do žánru, i když oficiální informaci od tvůrců filmu nemáme."
   ]
  },
  {
   "cell_type": "code",
   "execution_count": 5,
   "metadata": {},
   "outputs": [
    {
     "data": {
      "text/html": [
       "<div>\n",
       "<style scoped>\n",
       "    .dataframe tbody tr th:only-of-type {\n",
       "        vertical-align: middle;\n",
       "    }\n",
       "\n",
       "    .dataframe tbody tr th {\n",
       "        vertical-align: top;\n",
       "    }\n",
       "\n",
       "    .dataframe thead th {\n",
       "        text-align: right;\n",
       "    }\n",
       "</style>\n",
       "<table border=\"1\" class=\"dataframe\">\n",
       "  <thead>\n",
       "    <tr style=\"text-align: right;\">\n",
       "      <th></th>\n",
       "      <th>title</th>\n",
       "      <th>genre</th>\n",
       "      <th>text</th>\n",
       "    </tr>\n",
       "  </thead>\n",
       "  <tbody>\n",
       "    <tr>\n",
       "      <th>0</th>\n",
       "      <td>Santa Barbara (2014)</td>\n",
       "      <td>romance</td>\n",
       "      <td>Because of his close friend's betrayal, music ...</td>\n",
       "    </tr>\n",
       "    <tr>\n",
       "      <th>1</th>\n",
       "      <td>Behen Hogi Teri (2017)</td>\n",
       "      <td>comedy</td>\n",
       "      <td>Gattu (Rajkummar Rao) has a problem, he loves ...</td>\n",
       "    </tr>\n",
       "    <tr>\n",
       "      <th>2</th>\n",
       "      <td>The Last Coffin (2003)</td>\n",
       "      <td>horror</td>\n",
       "      <td>In the movie, a strange crossword puzzle start...</td>\n",
       "    </tr>\n",
       "    <tr>\n",
       "      <th>3</th>\n",
       "      <td>Lady Krampus (2016)</td>\n",
       "      <td>horror</td>\n",
       "      <td>It's Christmas time in Cleveland, Ohio and fou...</td>\n",
       "    </tr>\n",
       "    <tr>\n",
       "      <th>4</th>\n",
       "      <td>\"Pandemic\" (2016)</td>\n",
       "      <td>thriller</td>\n",
       "      <td>A deadly virus is unleashed on the fictional n...</td>\n",
       "    </tr>\n",
       "  </tbody>\n",
       "</table>\n",
       "</div>"
      ],
      "text/plain": [
       "                    title     genre   \n",
       "0    Santa Barbara (2014)   romance  \\\n",
       "1  Behen Hogi Teri (2017)    comedy   \n",
       "2  The Last Coffin (2003)    horror   \n",
       "3     Lady Krampus (2016)    horror   \n",
       "4       \"Pandemic\" (2016)  thriller   \n",
       "\n",
       "                                                text  \n",
       "0  Because of his close friend's betrayal, music ...  \n",
       "1  Gattu (Rajkummar Rao) has a problem, he loves ...  \n",
       "2  In the movie, a strange crossword puzzle start...  \n",
       "3  It's Christmas time in Cleveland, Ohio and fou...  \n",
       "4  A deadly virus is unleashed on the fictional n...  "
      ]
     },
     "execution_count": 5,
     "metadata": {},
     "output_type": "execute_result"
    }
   ],
   "source": [
    "data = pandas.read_csv(\"movies.csv\")\n",
    "data.head()"
   ]
  },
  {
   "attachments": {},
   "cell_type": "markdown",
   "metadata": {},
   "source": [
    "Rozdělíme data na vstupní a výstupní proměnnou a poté na trénovací a testovací data."
   ]
  },
  {
   "cell_type": "code",
   "execution_count": 6,
   "metadata": {},
   "outputs": [],
   "source": [
    "X = data[\"text\"]\n",
    "y = data[\"genre\"]\n",
    "\n",
    "X_train, X_test, y_train, y_test = train_test_split(X, y, stratify=y, random_state=0)"
   ]
  },
  {
   "attachments": {},
   "cell_type": "markdown",
   "metadata": {},
   "source": [
    "Musíme myslet na to, že rozložení jednotlivých skupin je velmi nerovnoměrné, například komedií je mnohem více než sci-fi filmů."
   ]
  },
  {
   "cell_type": "code",
   "execution_count": 7,
   "metadata": {},
   "outputs": [
    {
     "data": {
      "text/plain": [
       "<Axes: xlabel='genre'>"
      ]
     },
     "execution_count": 7,
     "metadata": {},
     "output_type": "execute_result"
    },
    {
     "data": {
      "image/png": "[encoded data removed]",
      "text/plain": [
       "<Figure size 640x480 with 1 Axes>"
      ]
     },
     "metadata": {},
     "output_type": "display_data"
    }
   ],
   "source": [
    "data.groupby(\"genre\").size().plot(kind=\"bar\")"
   ]
  },
  {
   "attachments": {},
   "cell_type": "markdown",
   "metadata": {},
   "source": [
    "Jako první formu reprezentace popisků vyzkoušíme jednotlivá slova a jejich počty. V podstatě vytvoříme slovní zásobu, která bude obsahovat všechna slova, co se v našich trénovacích datech objeví. Jedno slovo bude jedna proměnná a hodnota proměnné bude počet, kolikrát se slovo v dokumentu (zde popisku filmu) objeví. Opět použijeme `CountVectorizer`."
   ]
  },
  {
   "cell_type": "code",
   "execution_count": 8,
   "metadata": {},
   "outputs": [],
   "source": [
    "vec = CountVectorizer()\n",
    "X_train = vec.fit_transform(X_train)\n",
    "X_test = vec.transform(X_test)"
   ]
  },
  {
   "attachments": {},
   "cell_type": "markdown",
   "metadata": {},
   "source": [
    "Jak teď naše data vypadají?"
   ]
  },
  {
   "cell_type": "code",
   "execution_count": 9,
   "metadata": {},
   "outputs": [
    {
     "data": {
      "text/plain": [
       "array([[0, 0, 0, ..., 0, 0, 0],\n",
       "       [0, 0, 0, ..., 0, 0, 0],\n",
       "       [0, 0, 0, ..., 0, 0, 0],\n",
       "       ...,\n",
       "       [0, 1, 0, ..., 0, 0, 0],\n",
       "       [0, 0, 0, ..., 0, 0, 0],\n",
       "       [0, 0, 0, ..., 0, 0, 0]])"
      ]
     },
     "execution_count": 9,
     "metadata": {},
     "output_type": "execute_result"
    }
   ],
   "source": [
    "X_train.toarray()"
   ]
  },
  {
   "attachments": {},
   "cell_type": "markdown",
   "metadata": {},
   "source": [
    "Podívejme se na rozměry tabulky."
   ]
  },
  {
   "cell_type": "code",
   "execution_count": 10,
   "metadata": {},
   "outputs": [
    {
     "data": {
      "text/plain": [
       "(11181, 49445)"
      ]
     },
     "execution_count": 10,
     "metadata": {},
     "output_type": "execute_result"
    }
   ],
   "source": [
    "X_train.toarray().shape"
   ]
  },
  {
   "cell_type": "code",
   "execution_count": 11,
   "metadata": {},
   "outputs": [
    {
     "data": {
      "text/plain": [
       "array(['00', '000', '003', ..., 'ťthe', 'źs', 'žš'], dtype=object)"
      ]
     },
     "execution_count": 11,
     "metadata": {},
     "output_type": "execute_result"
    }
   ],
   "source": [
    "vec.get_feature_names_out()"
   ]
  },
  {
   "attachments": {},
   "cell_type": "markdown",
   "metadata": {},
   "source": [
    "Vidíme, že data mají cca 49 tisíc unikátních slov. Bylo by pro nás jako pro lidi opravdu příliš pracné tato slova ručně projít a rozdělit na skupiny, jako jsme to provedli u imaginárních dat s hodnoceními jazyka Python. Můžeme ale využít některý z algoritmů supervised learning. Ten zařadí film do žánru v závislosti na tom, do jakých žánrů patří filmy s popisy, které obsahuje podobná slova.\n",
    "\n",
    "Pojďme tedy zkusit tyto vstupní proměnné předat klasifikačnímu algoritmu K Nearest Neighbours. Uvažujme například 5 nejbližších sousedů, tj. výchozí hodnotu."
   ]
  },
  {
   "cell_type": "code",
   "execution_count": 12,
   "metadata": {},
   "outputs": [],
   "source": [
    "clf = KNeighborsClassifier()\n",
    "clf.fit(X_train, y_train)\n",
    "y_pred = clf.predict(X_test)"
   ]
  },
  {
   "cell_type": "code",
   "execution_count": 13,
   "metadata": {},
   "outputs": [
    {
     "data": {
      "text/plain": [
       "<sklearn.metrics._plot.confusion_matrix.ConfusionMatrixDisplay at 0x1086f4ca0>"
      ]
     },
     "execution_count": 13,
     "metadata": {},
     "output_type": "execute_result"
    },
    {
     "data": {
      "image/png": "[encoded data removed]",
      "text/plain": [
       "<Figure size 640x480 with 2 Axes>"
      ]
     },
     "metadata": {},
     "output_type": "display_data"
    }
   ],
   "source": [
    "ConfusionMatrixDisplay.from_estimator(\n",
    "    clf,\n",
    "    X_test,\n",
    "    y_test,\n",
    ")"
   ]
  },
  {
   "cell_type": "code",
   "execution_count": 14,
   "metadata": {},
   "outputs": [
    {
     "data": {
      "text/plain": [
       "0.48940166353635634"
      ]
     },
     "execution_count": 14,
     "metadata": {},
     "output_type": "execute_result"
    }
   ],
   "source": [
    "accuracy_score(y_test, y_pred)"
   ]
  },
  {
   "attachments": {
    "tf-idf.png": {
     "image/png": "[encoded data removed]"
    }
   },
   "cell_type": "markdown",
   "metadata": {},
   "source": [
    "Jak můžeme úspěšnost modelu zlepšit? V podstatě jsou dvě úrovně: Úroveň dat, a úroveň klasifikačního algoritmu. Pojďme začít u dat, protože když nebudeme mít čistá data, žádný algoritmus nás nezachrání (toto se dá také shrnout pořekadlem \"garbage in, garbage out\").\n",
    "\n",
    "- Všimněme si, že nejčastější slova jsou taková, která se nacházejí skoro ve všech popiskách. Těmto častým slovům, která nenesou žádný význam, se říka _stop words_. Každý jazyk má svůj blacklist těchto slov, která se většinou z dat úplně vyfiltrují. `CountVectorizer` má parametr `stop_words`, který můžeme nastavit na hodnotu `\"english\"`. \n",
    "\n",
    "- Dále se zamysleme nad tím, co znamenají hodnoty našich vstupních proměnných. Možná by bylo lepší tyto hodnoty nějak normalizovat (co kdybychom například měli veliké rozdíly mezi délkou vstupních dokumentů?). Populární metoda pro normalizaci četností slov je TF-IDF (Term Frequency Inverse Document Frequency). Tato normalizace zohledňuje jak četnost slova v dokumentu, tak i to, jak často se objevuje vůbec v celých vstupních datech. Takže slovo, které by se velmi často objevovalo jen v několika dokumentech, by mělo větší váhu, než jiné slovo, které se objevuje v mnoha dokumentech. \n",
    "\n",
    "![tf-idf.png](attachment:tf-idf.png)\n",
    "\n",
    "Můžeme tedy `CountVectorizer` vyměnit za `TfidfVectorizer`. Jak moc je teď důležitý parametr `stop_words`?"
   ]
  },
  {
   "cell_type": "code",
   "execution_count": 15,
   "metadata": {},
   "outputs": [
    {
     "data": {
      "text/plain": [
       "array([[0.        , 0.72664149, 0.        , 0.5728925 , 0.        ,\n",
       "        0.        , 0.37919167, 0.        ],\n",
       "       [0.        , 0.        , 0.        , 0.        , 0.        ,\n",
       "        0.88654763, 0.46263733, 0.        ],\n",
       "       [0.50676543, 0.        , 0.        , 0.39953968, 0.50676543,\n",
       "        0.        , 0.26445122, 0.50676543],\n",
       "       [0.        , 0.        , 0.88654763, 0.        , 0.        ,\n",
       "        0.        , 0.46263733, 0.        ]])"
      ]
     },
     "execution_count": 15,
     "metadata": {},
     "output_type": "execute_result"
    }
   ],
   "source": [
    "X = [\"Python is great\", \"I like Python\", \"Python is the best language\", \"I hate Python\"]\n",
    "vec = TfidfVectorizer()\n",
    "X = vec.fit_transform(X)\n",
    "X = X.toarray()\n",
    "X"
   ]
  },
  {
   "cell_type": "code",
   "execution_count": 16,
   "metadata": {},
   "outputs": [
    {
     "data": {
      "text/plain": [
       "array(['best', 'great', 'hate', 'is', 'language', 'like', 'python', 'the'],\n",
       "      dtype=object)"
      ]
     },
     "execution_count": 16,
     "metadata": {},
     "output_type": "execute_result"
    }
   ],
   "source": [
    "vec.get_feature_names_out()"
   ]
  },
  {
   "cell_type": "code",
   "execution_count": 17,
   "metadata": {},
   "outputs": [
    {
     "data": {
      "text/html": [
       "<div>\n",
       "<style scoped>\n",
       "    .dataframe tbody tr th:only-of-type {\n",
       "        vertical-align: middle;\n",
       "    }\n",
       "\n",
       "    .dataframe tbody tr th {\n",
       "        vertical-align: top;\n",
       "    }\n",
       "\n",
       "    .dataframe thead th {\n",
       "        text-align: right;\n",
       "    }\n",
       "</style>\n",
       "<table border=\"1\" class=\"dataframe\">\n",
       "  <thead>\n",
       "    <tr style=\"text-align: right;\">\n",
       "      <th></th>\n",
       "      <th>best</th>\n",
       "      <th>great</th>\n",
       "      <th>hate</th>\n",
       "      <th>is</th>\n",
       "      <th>language</th>\n",
       "      <th>like</th>\n",
       "      <th>python</th>\n",
       "      <th>the</th>\n",
       "    </tr>\n",
       "  </thead>\n",
       "  <tbody>\n",
       "    <tr>\n",
       "      <th>0</th>\n",
       "      <td>0.000000</td>\n",
       "      <td>0.726641</td>\n",
       "      <td>0.000000</td>\n",
       "      <td>0.572892</td>\n",
       "      <td>0.000000</td>\n",
       "      <td>0.000000</td>\n",
       "      <td>0.379192</td>\n",
       "      <td>0.000000</td>\n",
       "    </tr>\n",
       "    <tr>\n",
       "      <th>1</th>\n",
       "      <td>0.000000</td>\n",
       "      <td>0.000000</td>\n",
       "      <td>0.000000</td>\n",
       "      <td>0.000000</td>\n",
       "      <td>0.000000</td>\n",
       "      <td>0.886548</td>\n",
       "      <td>0.462637</td>\n",
       "      <td>0.000000</td>\n",
       "    </tr>\n",
       "    <tr>\n",
       "      <th>2</th>\n",
       "      <td>0.506765</td>\n",
       "      <td>0.000000</td>\n",
       "      <td>0.000000</td>\n",
       "      <td>0.399540</td>\n",
       "      <td>0.506765</td>\n",
       "      <td>0.000000</td>\n",
       "      <td>0.264451</td>\n",
       "      <td>0.506765</td>\n",
       "    </tr>\n",
       "    <tr>\n",
       "      <th>3</th>\n",
       "      <td>0.000000</td>\n",
       "      <td>0.000000</td>\n",
       "      <td>0.886548</td>\n",
       "      <td>0.000000</td>\n",
       "      <td>0.000000</td>\n",
       "      <td>0.000000</td>\n",
       "      <td>0.462637</td>\n",
       "      <td>0.000000</td>\n",
       "    </tr>\n",
       "  </tbody>\n",
       "</table>\n",
       "</div>"
      ],
      "text/plain": [
       "       best     great      hate        is  language      like    python   \n",
       "0  0.000000  0.726641  0.000000  0.572892  0.000000  0.000000  0.379192  \\\n",
       "1  0.000000  0.000000  0.000000  0.000000  0.000000  0.886548  0.462637   \n",
       "2  0.506765  0.000000  0.000000  0.399540  0.506765  0.000000  0.264451   \n",
       "3  0.000000  0.000000  0.886548  0.000000  0.000000  0.000000  0.462637   \n",
       "\n",
       "        the  \n",
       "0  0.000000  \n",
       "1  0.000000  \n",
       "2  0.506765  \n",
       "3  0.000000  "
      ]
     },
     "execution_count": 17,
     "metadata": {},
     "output_type": "execute_result"
    }
   ],
   "source": [
    "df = pandas.DataFrame(X, columns=vec.get_feature_names_out())\n",
    "df"
   ]
  },
  {
   "attachments": {},
   "cell_type": "markdown",
   "metadata": {},
   "source": [
    "Nyní zkusíme přidat parametr `stop_words`. Která slova nám z dat zmizela?"
   ]
  },
  {
   "cell_type": "code",
   "execution_count": 18,
   "metadata": {},
   "outputs": [
    {
     "data": {
      "text/plain": [
       "array([[0.        , 0.88654763, 0.        , 0.        , 0.        ,\n",
       "        0.46263733],\n",
       "       [0.        , 0.        , 0.        , 0.        , 0.88654763,\n",
       "        0.46263733],\n",
       "       [0.66338461, 0.        , 0.        , 0.66338461, 0.        ,\n",
       "        0.34618161],\n",
       "       [0.        , 0.        , 0.88654763, 0.        , 0.        ,\n",
       "        0.46263733]])"
      ]
     },
     "execution_count": 18,
     "metadata": {},
     "output_type": "execute_result"
    }
   ],
   "source": [
    "X = [\"Python is great\", \"I like Python\", \"Python is the best language\", \"I hate Python\"]\n",
    "vec = TfidfVectorizer(stop_words=\"english\")\n",
    "X = vec.fit_transform(X)\n",
    "X = X.toarray()\n",
    "X"
   ]
  },
  {
   "cell_type": "code",
   "execution_count": 19,
   "metadata": {},
   "outputs": [
    {
     "data": {
      "text/plain": [
       "array(['best', 'great', 'hate', 'language', 'like', 'python'],\n",
       "      dtype=object)"
      ]
     },
     "execution_count": 19,
     "metadata": {},
     "output_type": "execute_result"
    }
   ],
   "source": [
    "vec.get_feature_names_out()"
   ]
  },
  {
   "cell_type": "code",
   "execution_count": 20,
   "metadata": {},
   "outputs": [
    {
     "data": {
      "text/html": [
       "<div>\n",
       "<style scoped>\n",
       "    .dataframe tbody tr th:only-of-type {\n",
       "        vertical-align: middle;\n",
       "    }\n",
       "\n",
       "    .dataframe tbody tr th {\n",
       "        vertical-align: top;\n",
       "    }\n",
       "\n",
       "    .dataframe thead th {\n",
       "        text-align: right;\n",
       "    }\n",
       "</style>\n",
       "<table border=\"1\" class=\"dataframe\">\n",
       "  <thead>\n",
       "    <tr style=\"text-align: right;\">\n",
       "      <th></th>\n",
       "      <th>best</th>\n",
       "      <th>great</th>\n",
       "      <th>hate</th>\n",
       "      <th>language</th>\n",
       "      <th>like</th>\n",
       "      <th>python</th>\n",
       "    </tr>\n",
       "  </thead>\n",
       "  <tbody>\n",
       "    <tr>\n",
       "      <th>0</th>\n",
       "      <td>0.000000</td>\n",
       "      <td>0.886548</td>\n",
       "      <td>0.000000</td>\n",
       "      <td>0.000000</td>\n",
       "      <td>0.000000</td>\n",
       "      <td>0.462637</td>\n",
       "    </tr>\n",
       "    <tr>\n",
       "      <th>1</th>\n",
       "      <td>0.000000</td>\n",
       "      <td>0.000000</td>\n",
       "      <td>0.000000</td>\n",
       "      <td>0.000000</td>\n",
       "      <td>0.886548</td>\n",
       "      <td>0.462637</td>\n",
       "    </tr>\n",
       "    <tr>\n",
       "      <th>2</th>\n",
       "      <td>0.663385</td>\n",
       "      <td>0.000000</td>\n",
       "      <td>0.000000</td>\n",
       "      <td>0.663385</td>\n",
       "      <td>0.000000</td>\n",
       "      <td>0.346182</td>\n",
       "    </tr>\n",
       "    <tr>\n",
       "      <th>3</th>\n",
       "      <td>0.000000</td>\n",
       "      <td>0.000000</td>\n",
       "      <td>0.886548</td>\n",
       "      <td>0.000000</td>\n",
       "      <td>0.000000</td>\n",
       "      <td>0.462637</td>\n",
       "    </tr>\n",
       "  </tbody>\n",
       "</table>\n",
       "</div>"
      ],
      "text/plain": [
       "       best     great      hate  language      like    python\n",
       "0  0.000000  0.886548  0.000000  0.000000  0.000000  0.462637\n",
       "1  0.000000  0.000000  0.000000  0.000000  0.886548  0.462637\n",
       "2  0.663385  0.000000  0.000000  0.663385  0.000000  0.346182\n",
       "3  0.000000  0.000000  0.886548  0.000000  0.000000  0.462637"
      ]
     },
     "execution_count": 20,
     "metadata": {},
     "output_type": "execute_result"
    }
   ],
   "source": [
    "df = pandas.DataFrame(X, columns=vec.get_feature_names_out())\n",
    "df"
   ]
  },
  {
   "attachments": {},
   "cell_type": "markdown",
   "metadata": {},
   "source": [
    "### Čtení na doma - postup výpočtu\n",
    "\n",
    "Podívejme se na způsob výpočtu. Vraťme se k tabulce, kterou vygeneruje `CountVectorizer`."
   ]
  },
  {
   "cell_type": "code",
   "execution_count": 21,
   "metadata": {},
   "outputs": [
    {
     "data": {
      "text/plain": [
       "array([[0, 1, 0, 0, 0, 1],\n",
       "       [0, 0, 0, 0, 1, 1],\n",
       "       [1, 0, 0, 1, 0, 1],\n",
       "       [0, 0, 1, 0, 0, 1]])"
      ]
     },
     "execution_count": 21,
     "metadata": {},
     "output_type": "execute_result"
    }
   ],
   "source": [
    "X = [\"Python is great\", \"I like Python\", \"Python is the best language\", \"I hate Python\"]\n",
    "\n",
    "vec = CountVectorizer(stop_words=\"english\")\n",
    "X = vec.fit_transform(X)\n",
    "X = X.toarray()\n",
    "X"
   ]
  },
  {
   "attachments": {},
   "cell_type": "markdown",
   "metadata": {},
   "source": [
    "Nyní porovnejme matici s tím, co vygeneruje `TfidfVectorizer`. Dále přibyl parametr `smooth_idf`, jehož funkci si ještě objasníme."
   ]
  },
  {
   "cell_type": "code",
   "execution_count": 22,
   "metadata": {},
   "outputs": [
    {
     "data": {
      "text/plain": [
       "array([[0.        , 0.9222914 , 0.        , 0.        , 0.        ,\n",
       "        0.38649524],\n",
       "       [0.        , 0.        , 0.        , 0.        , 0.9222914 ,\n",
       "        0.38649524],\n",
       "       [0.67796827, 0.        , 0.        , 0.67796827, 0.        ,\n",
       "        0.28410924],\n",
       "       [0.        , 0.        , 0.9222914 , 0.        , 0.        ,\n",
       "        0.38649524]])"
      ]
     },
     "execution_count": 22,
     "metadata": {},
     "output_type": "execute_result"
    }
   ],
   "source": [
    "X = [\"Python is great\", \"I like Python\", \"Python is the best language\", \"I hate Python\"]\n",
    "\n",
    "vec = TfidfVectorizer(stop_words=\"english\", smooth_idf=False)\n",
    "X = vec.fit_transform(X)\n",
    "X = X.toarray()\n",
    "X"
   ]
  },
  {
   "cell_type": "code",
   "execution_count": 23,
   "metadata": {},
   "outputs": [
    {
     "data": {
      "text/plain": [
       "array(['best', 'great', 'hate', 'language', 'like', 'python'],\n",
       "      dtype=object)"
      ]
     },
     "execution_count": 23,
     "metadata": {},
     "output_type": "execute_result"
    }
   ],
   "source": [
    "vec.get_feature_names_out()"
   ]
  },
  {
   "attachments": {},
   "cell_type": "markdown",
   "metadata": {},
   "source": [
    "Pro přehlednost si zobrazíme výsledek jako pandas tabulku (`DataFrame`)."
   ]
  },
  {
   "cell_type": "code",
   "execution_count": 24,
   "metadata": {},
   "outputs": [
    {
     "data": {
      "text/html": [
       "<div>\n",
       "<style scoped>\n",
       "    .dataframe tbody tr th:only-of-type {\n",
       "        vertical-align: middle;\n",
       "    }\n",
       "\n",
       "    .dataframe tbody tr th {\n",
       "        vertical-align: top;\n",
       "    }\n",
       "\n",
       "    .dataframe thead th {\n",
       "        text-align: right;\n",
       "    }\n",
       "</style>\n",
       "<table border=\"1\" class=\"dataframe\">\n",
       "  <thead>\n",
       "    <tr style=\"text-align: right;\">\n",
       "      <th></th>\n",
       "      <th>best</th>\n",
       "      <th>great</th>\n",
       "      <th>hate</th>\n",
       "      <th>language</th>\n",
       "      <th>like</th>\n",
       "      <th>python</th>\n",
       "    </tr>\n",
       "  </thead>\n",
       "  <tbody>\n",
       "    <tr>\n",
       "      <th>0</th>\n",
       "      <td>0.000000</td>\n",
       "      <td>0.922291</td>\n",
       "      <td>0.000000</td>\n",
       "      <td>0.000000</td>\n",
       "      <td>0.000000</td>\n",
       "      <td>0.386495</td>\n",
       "    </tr>\n",
       "    <tr>\n",
       "      <th>1</th>\n",
       "      <td>0.000000</td>\n",
       "      <td>0.000000</td>\n",
       "      <td>0.000000</td>\n",
       "      <td>0.000000</td>\n",
       "      <td>0.922291</td>\n",
       "      <td>0.386495</td>\n",
       "    </tr>\n",
       "    <tr>\n",
       "      <th>2</th>\n",
       "      <td>0.677968</td>\n",
       "      <td>0.000000</td>\n",
       "      <td>0.000000</td>\n",
       "      <td>0.677968</td>\n",
       "      <td>0.000000</td>\n",
       "      <td>0.284109</td>\n",
       "    </tr>\n",
       "    <tr>\n",
       "      <th>3</th>\n",
       "      <td>0.000000</td>\n",
       "      <td>0.000000</td>\n",
       "      <td>0.922291</td>\n",
       "      <td>0.000000</td>\n",
       "      <td>0.000000</td>\n",
       "      <td>0.386495</td>\n",
       "    </tr>\n",
       "  </tbody>\n",
       "</table>\n",
       "</div>"
      ],
      "text/plain": [
       "       best     great      hate  language      like    python\n",
       "0  0.000000  0.922291  0.000000  0.000000  0.000000  0.386495\n",
       "1  0.000000  0.000000  0.000000  0.000000  0.922291  0.386495\n",
       "2  0.677968  0.000000  0.000000  0.677968  0.000000  0.284109\n",
       "3  0.000000  0.000000  0.922291  0.000000  0.000000  0.386495"
      ]
     },
     "execution_count": 24,
     "metadata": {},
     "output_type": "execute_result"
    }
   ],
   "source": [
    "df = pandas.DataFrame(X, columns=vec.get_feature_names_out())\n",
    "df"
   ]
  },
  {
   "attachments": {},
   "cell_type": "markdown",
   "metadata": {},
   "source": [
    "Vypočítejme si nyní sami hodnoty v tabulce pro první řádek, abychom pochopili, jak `TfidfVectorizer` funguje. Začneme s výrazem great. Postupujeme podle vzorce.\n",
    "\n",
    "$$\n",
    "\\textrm{idf}(t) = \\log \\frac{n}{1 + \\textrm{df}(t)}\n",
    "$$\n",
    "\n",
    "kde $\\textrm{df}$ je počlet dokumentů, které obsahují výraz $t$, $n$ je celkový počet dokumentů a výsledkem je $idf$ (inverse document-frequency)."
   ]
  },
  {
   "cell_type": "code",
   "execution_count": 25,
   "metadata": {},
   "outputs": [
    {
     "data": {
      "text/plain": [
       "2.386294361119891"
      ]
     },
     "execution_count": 25,
     "metadata": {},
     "output_type": "execute_result"
    }
   ],
   "source": [
    "n = 4\n",
    "df_great = 1\n",
    "idf_great = numpy.log(n / df_great) + 1\n",
    "idf_great"
   ]
  },
  {
   "attachments": {},
   "cell_type": "markdown",
   "metadata": {},
   "source": [
    "Dále dopočítáme hodnotu ukazatel tf-idf s využitím vzorce\n",
    "\n",
    "$$\n",
    "\\textrm{tf-idf}(t,d) = \\textrm{tf}(t,d) * \\textrm{tf}\n",
    "$$\n",
    "\n",
    "kde $\\textrm{tf}(t,d)$ znamená term-frequency, tj. počet výskytů výrazu $t$, který vidíme v tabulce, kterou nám vygeneroval `CountVectorizer`."
   ]
  },
  {
   "cell_type": "code",
   "execution_count": 26,
   "metadata": {},
   "outputs": [
    {
     "data": {
      "text/plain": [
       "2.386294361119891"
      ]
     },
     "execution_count": 26,
     "metadata": {},
     "output_type": "execute_result"
    }
   ],
   "source": [
    "tf_idf_great = 1 * idf_great\n",
    "tf_idf_great"
   ]
  },
  {
   "attachments": {},
   "cell_type": "markdown",
   "metadata": {},
   "source": [
    "Nyní postupujeme stejně pro výraz Python. Ten se objevuje ve všech 4 dokumentech."
   ]
  },
  {
   "cell_type": "code",
   "execution_count": 27,
   "metadata": {},
   "outputs": [
    {
     "data": {
      "text/plain": [
       "1.0"
      ]
     },
     "execution_count": 27,
     "metadata": {},
     "output_type": "execute_result"
    }
   ],
   "source": [
    "df_python = 4\n",
    "idf_python = numpy.log(n / df_python) + 1\n",
    "idf_python"
   ]
  },
  {
   "cell_type": "code",
   "execution_count": 28,
   "metadata": {},
   "outputs": [
    {
     "data": {
      "text/plain": [
       "1.0"
      ]
     },
     "execution_count": 28,
     "metadata": {},
     "output_type": "execute_result"
    }
   ],
   "source": [
    "tf_idf_python = 1 * idf_python\n",
    "tf_idf_python"
   ]
  },
  {
   "attachments": {},
   "cell_type": "markdown",
   "metadata": {},
   "source": [
    "Nakonec provedeme normalizaci, kterou získáme jako podíl tf-idf pro dané slovo a odmocninu druhých mocnin tf-idf pro všechna slova. Níže vidíme, že výsledek odpovídá hodnotě pro výraz great v dokumentu 0."
   ]
  },
  {
   "cell_type": "code",
   "execution_count": 29,
   "metadata": {},
   "outputs": [
    {
     "data": {
      "text/plain": [
       "0.92229140312174"
      ]
     },
     "execution_count": 29,
     "metadata": {},
     "output_type": "execute_result"
    }
   ],
   "source": [
    "tf_idf_great / numpy.sqrt(tf_idf_great**2 + tf_idf_python**2)"
   ]
  },
  {
   "attachments": {},
   "cell_type": "markdown",
   "metadata": {},
   "source": [
    "Dále si vyzkoušíme variantu bez parametru `smooth_idf`."
   ]
  },
  {
   "cell_type": "code",
   "execution_count": 30,
   "metadata": {},
   "outputs": [
    {
     "data": {
      "text/plain": [
       "array([[0.        , 0.88654763, 0.        , 0.        , 0.        ,\n",
       "        0.46263733],\n",
       "       [0.        , 0.        , 0.        , 0.        , 0.88654763,\n",
       "        0.46263733],\n",
       "       [0.66338461, 0.        , 0.        , 0.66338461, 0.        ,\n",
       "        0.34618161],\n",
       "       [0.        , 0.        , 0.88654763, 0.        , 0.        ,\n",
       "        0.46263733]])"
      ]
     },
     "execution_count": 30,
     "metadata": {},
     "output_type": "execute_result"
    }
   ],
   "source": [
    "X = [\"Python is great\", \"I like Python\", \"Python is the best language\", \"I hate Python\"]\n",
    "\n",
    "vec = TfidfVectorizer(stop_words=\"english\")\n",
    "X = vec.fit_transform(X)\n",
    "X = X.toarray()\n",
    "X"
   ]
  },
  {
   "cell_type": "code",
   "execution_count": 31,
   "metadata": {},
   "outputs": [
    {
     "data": {
      "text/html": [
       "<div>\n",
       "<style scoped>\n",
       "    .dataframe tbody tr th:only-of-type {\n",
       "        vertical-align: middle;\n",
       "    }\n",
       "\n",
       "    .dataframe tbody tr th {\n",
       "        vertical-align: top;\n",
       "    }\n",
       "\n",
       "    .dataframe thead th {\n",
       "        text-align: right;\n",
       "    }\n",
       "</style>\n",
       "<table border=\"1\" class=\"dataframe\">\n",
       "  <thead>\n",
       "    <tr style=\"text-align: right;\">\n",
       "      <th></th>\n",
       "      <th>best</th>\n",
       "      <th>great</th>\n",
       "      <th>hate</th>\n",
       "      <th>language</th>\n",
       "      <th>like</th>\n",
       "      <th>python</th>\n",
       "    </tr>\n",
       "  </thead>\n",
       "  <tbody>\n",
       "    <tr>\n",
       "      <th>0</th>\n",
       "      <td>0.000000</td>\n",
       "      <td>0.886548</td>\n",
       "      <td>0.000000</td>\n",
       "      <td>0.000000</td>\n",
       "      <td>0.000000</td>\n",
       "      <td>0.462637</td>\n",
       "    </tr>\n",
       "    <tr>\n",
       "      <th>1</th>\n",
       "      <td>0.000000</td>\n",
       "      <td>0.000000</td>\n",
       "      <td>0.000000</td>\n",
       "      <td>0.000000</td>\n",
       "      <td>0.886548</td>\n",
       "      <td>0.462637</td>\n",
       "    </tr>\n",
       "    <tr>\n",
       "      <th>2</th>\n",
       "      <td>0.663385</td>\n",
       "      <td>0.000000</td>\n",
       "      <td>0.000000</td>\n",
       "      <td>0.663385</td>\n",
       "      <td>0.000000</td>\n",
       "      <td>0.346182</td>\n",
       "    </tr>\n",
       "    <tr>\n",
       "      <th>3</th>\n",
       "      <td>0.000000</td>\n",
       "      <td>0.000000</td>\n",
       "      <td>0.886548</td>\n",
       "      <td>0.000000</td>\n",
       "      <td>0.000000</td>\n",
       "      <td>0.462637</td>\n",
       "    </tr>\n",
       "  </tbody>\n",
       "</table>\n",
       "</div>"
      ],
      "text/plain": [
       "       best     great      hate  language      like    python\n",
       "0  0.000000  0.886548  0.000000  0.000000  0.000000  0.462637\n",
       "1  0.000000  0.000000  0.000000  0.000000  0.886548  0.462637\n",
       "2  0.663385  0.000000  0.000000  0.663385  0.000000  0.346182\n",
       "3  0.000000  0.000000  0.886548  0.000000  0.000000  0.462637"
      ]
     },
     "execution_count": 31,
     "metadata": {},
     "output_type": "execute_result"
    }
   ],
   "source": [
    "df = pandas.DataFrame(X, columns=vec.get_feature_names_out())\n",
    "df"
   ]
  },
  {
   "attachments": {},
   "cell_type": "markdown",
   "metadata": {},
   "source": [
    "Rozdíl je v tom, že idf počítáme z mírně upraveného vzorce\n",
    "\n",
    "$$\n",
    "\\textrm{idf}(t) = \\log \\frac{1 + n}{1 + \\textrm{df}(t)} + 1\n",
    "$$"
   ]
  },
  {
   "cell_type": "code",
   "execution_count": 32,
   "metadata": {},
   "outputs": [
    {
     "data": {
      "text/plain": [
       "0.8865476297873808"
      ]
     },
     "execution_count": 32,
     "metadata": {},
     "output_type": "execute_result"
    }
   ],
   "source": [
    "n = 4\n",
    "df_great = 1\n",
    "idf_great = numpy.log((1 + n) / (1 + df_great)) + 1\n",
    "tf_idf_great = 1 * idf_great\n",
    "df_python = 4\n",
    "idf_python = numpy.log((1 + n) / (1 + df_python)) + 1\n",
    "tf_idf_python = 1 * idf_python\n",
    "tf_idf_great / numpy.sqrt(tf_idf_great**2 + tf_idf_python**2)"
   ]
  },
  {
   "attachments": {},
   "cell_type": "markdown",
   "metadata": {},
   "source": [
    "### Vlastní seznam stop words\n",
    "\n",
    "Pokud nám nevyhovuje výchozí seznam stop words pro daný jazyk, můžeme si vytvořit svůj. To se může hodit pro češtinu nebo třeba v situaci, že se dané slovo vyskytuje často (např. v příspěvcích o Pythonu se bude často opakovat slovo Python)."
   ]
  },
  {
   "cell_type": "code",
   "execution_count": 33,
   "metadata": {},
   "outputs": [
    {
     "name": "stderr",
     "output_type": "stream",
     "text": [
      "/Users/entiaperse/Library/Python/3.9/lib/python/site-packages/sklearn/feature_extraction/text.py:409: UserWarning: Your stop_words may be inconsistent with your preprocessing. Tokenizing the stop words generated tokens ['python'] not in stop_words.\n",
      "  warnings.warn(\n"
     ]
    },
    {
     "data": {
      "text/plain": [
       "array([[0.        , 0.83388421, 0.        , 0.55193942, 0.        ],\n",
       "       [0.        , 0.        , 0.        , 0.46263733, 0.88654763],\n",
       "       [0.72664149, 0.5728925 , 0.        , 0.37919167, 0.        ],\n",
       "       [0.        , 0.        , 0.88654763, 0.46263733, 0.        ]])"
      ]
     },
     "execution_count": 33,
     "metadata": {},
     "output_type": "execute_result"
    }
   ],
   "source": [
    "X = [\n",
    "    \"Python je nejlepší\",\n",
    "    \"Mám rád Python!\",\n",
    "    \"Python je nejlepší jazyk\",\n",
    "    \"Nesnáším Python!\",\n",
    "]\n",
    "vec = TfidfVectorizer(stop_words=[\"je\", \"mám\", \"Python\"])\n",
    "X = vec.fit_transform(X)\n",
    "X = X.toarray()\n",
    "X"
   ]
  },
  {
   "cell_type": "code",
   "execution_count": 34,
   "metadata": {},
   "outputs": [
    {
     "data": {
      "text/plain": [
       "array(['jazyk', 'nejlepší', 'nesnáším', 'python', 'rád'], dtype=object)"
      ]
     },
     "execution_count": 34,
     "metadata": {},
     "output_type": "execute_result"
    }
   ],
   "source": [
    "vec.get_feature_names_out()"
   ]
  },
  {
   "cell_type": "code",
   "execution_count": 35,
   "metadata": {},
   "outputs": [
    {
     "data": {
      "text/html": [
       "<div>\n",
       "<style scoped>\n",
       "    .dataframe tbody tr th:only-of-type {\n",
       "        vertical-align: middle;\n",
       "    }\n",
       "\n",
       "    .dataframe tbody tr th {\n",
       "        vertical-align: top;\n",
       "    }\n",
       "\n",
       "    .dataframe thead th {\n",
       "        text-align: right;\n",
       "    }\n",
       "</style>\n",
       "<table border=\"1\" class=\"dataframe\">\n",
       "  <thead>\n",
       "    <tr style=\"text-align: right;\">\n",
       "      <th></th>\n",
       "      <th>jazyk</th>\n",
       "      <th>nejlepší</th>\n",
       "      <th>nesnáším</th>\n",
       "      <th>python</th>\n",
       "      <th>rád</th>\n",
       "    </tr>\n",
       "  </thead>\n",
       "  <tbody>\n",
       "    <tr>\n",
       "      <th>0</th>\n",
       "      <td>0.000000</td>\n",
       "      <td>0.833884</td>\n",
       "      <td>0.000000</td>\n",
       "      <td>0.551939</td>\n",
       "      <td>0.000000</td>\n",
       "    </tr>\n",
       "    <tr>\n",
       "      <th>1</th>\n",
       "      <td>0.000000</td>\n",
       "      <td>0.000000</td>\n",
       "      <td>0.000000</td>\n",
       "      <td>0.462637</td>\n",
       "      <td>0.886548</td>\n",
       "    </tr>\n",
       "    <tr>\n",
       "      <th>2</th>\n",
       "      <td>0.726641</td>\n",
       "      <td>0.572892</td>\n",
       "      <td>0.000000</td>\n",
       "      <td>0.379192</td>\n",
       "      <td>0.000000</td>\n",
       "    </tr>\n",
       "    <tr>\n",
       "      <th>3</th>\n",
       "      <td>0.000000</td>\n",
       "      <td>0.000000</td>\n",
       "      <td>0.886548</td>\n",
       "      <td>0.462637</td>\n",
       "      <td>0.000000</td>\n",
       "    </tr>\n",
       "  </tbody>\n",
       "</table>\n",
       "</div>"
      ],
      "text/plain": [
       "      jazyk  nejlepší  nesnáším    python       rád\n",
       "0  0.000000  0.833884  0.000000  0.551939  0.000000\n",
       "1  0.000000  0.000000  0.000000  0.462637  0.886548\n",
       "2  0.726641  0.572892  0.000000  0.379192  0.000000\n",
       "3  0.000000  0.000000  0.886548  0.462637  0.000000"
      ]
     },
     "execution_count": 35,
     "metadata": {},
     "output_type": "execute_result"
    }
   ],
   "source": [
    "df = pandas.DataFrame(X, columns=vec.get_feature_names_out())\n",
    "df"
   ]
  },
  {
   "attachments": {},
   "cell_type": "markdown",
   "metadata": {},
   "source": [
    "### Klasifikace dokumentů\n",
    "\n",
    "Vyzoušejme nyní klasifikaci dokumentů (resp. filmů, o kterých dané dokumenty pojednávají). Využít můžeme například algoritmus `KNeighborsClassifier`."
   ]
  },
  {
   "cell_type": "code",
   "execution_count": 36,
   "metadata": {},
   "outputs": [
    {
     "data": {
      "text/plain": [
       "0.5709686074590824"
      ]
     },
     "execution_count": 36,
     "metadata": {},
     "output_type": "execute_result"
    }
   ],
   "source": [
    "X = data[\"text\"]\n",
    "y = data[\"genre\"]\n",
    "\n",
    "X_train, X_test, y_train, y_test = train_test_split(X, y, stratify=y, random_state=0)\n",
    "\n",
    "vec = TfidfVectorizer()\n",
    "X_train = vec.fit_transform(X_train)\n",
    "X_test = vec.transform(X_test)\n",
    "\n",
    "clf = KNeighborsClassifier()\n",
    "clf.fit(X_train, y_train)\n",
    "y_pred = clf.predict(X_test)\n",
    "\n",
    "accuracy_score(y_test, y_pred)"
   ]
  },
  {
   "attachments": {},
   "cell_type": "markdown",
   "metadata": {},
   "source": [
    "Porovnáme accuracy s výsledkem stejného algoritmu při využití parametru `stop_words`."
   ]
  },
  {
   "cell_type": "code",
   "execution_count": 37,
   "metadata": {},
   "outputs": [
    {
     "data": {
      "text/plain": [
       "0.5811644754494232"
      ]
     },
     "execution_count": 37,
     "metadata": {},
     "output_type": "execute_result"
    }
   ],
   "source": [
    "X = data[\"text\"]\n",
    "y = data[\"genre\"]\n",
    "\n",
    "X_train, X_test, y_train, y_test = train_test_split(X, y, stratify=y, random_state=0)\n",
    "\n",
    "# Uvažujeme stop_words v angličtině\n",
    "vec = TfidfVectorizer(stop_words=\"english\")\n",
    "X_train = vec.fit_transform(X_train)\n",
    "X_test = vec.transform(X_test)\n",
    "\n",
    "clf = KNeighborsClassifier()\n",
    "clf.fit(X_train, y_train)\n",
    "y_pred = clf.predict(X_test)\n",
    "\n",
    "accuracy_score(y_test, y_pred)"
   ]
  },
  {
   "attachments": {},
   "cell_type": "markdown",
   "metadata": {},
   "source": [
    "Níže si zobrazíme matici záměn. Vidíme například, že náš model označil 228 hororů za komedii a naopak 108 komedií za horor."
   ]
  },
  {
   "cell_type": "code",
   "execution_count": 38,
   "metadata": {},
   "outputs": [
    {
     "data": {
      "text/plain": [
       "<sklearn.metrics._plot.confusion_matrix.ConfusionMatrixDisplay at 0x1086d9fa0>"
      ]
     },
     "execution_count": 38,
     "metadata": {},
     "output_type": "execute_result"
    },
    {
     "data": {
      "image/png": "[encoded data removed]",
      "text/plain": [
       "<Figure size 640x480 with 2 Axes>"
      ]
     },
     "metadata": {},
     "output_type": "display_data"
    }
   ],
   "source": [
    "ConfusionMatrixDisplay.from_estimator(\n",
    "    clf,\n",
    "    X_test,\n",
    "    y_test,\n",
    ")"
   ]
  },
  {
   "attachments": {},
   "cell_type": "markdown",
   "metadata": {},
   "source": [
    "Zkusme nyní přidat i dvojice slov. K tomu slouží parametr `ngram_range`."
   ]
  },
  {
   "cell_type": "code",
   "execution_count": 39,
   "metadata": {},
   "outputs": [
    {
     "data": {
      "text/plain": [
       "0.594311778910652"
      ]
     },
     "execution_count": 39,
     "metadata": {},
     "output_type": "execute_result"
    }
   ],
   "source": [
    "X = data[\"text\"]\n",
    "y = data[\"genre\"]\n",
    "\n",
    "X_train, X_test, y_train, y_test = train_test_split(X, y, stratify=y, random_state=0)\n",
    "\n",
    "# Uvažujeme stop words v angličtině, samostatná slova a dvojice slov\n",
    "vec = TfidfVectorizer(stop_words=\"english\", ngram_range=(1, 2))\n",
    "X_train = vec.fit_transform(X_train)\n",
    "X_test = vec.transform(X_test)\n",
    "\n",
    "clf = KNeighborsClassifier()\n",
    "clf.fit(X_train, y_train)\n",
    "y_pred = clf.predict(X_test)\n",
    "\n",
    "accuracy_score(y_test, y_pred)"
   ]
  },
  {
   "attachments": {},
   "cell_type": "markdown",
   "metadata": {},
   "source": [
    "Dále můžeme využít i lineární verzi algoritmu Support Vector Machine. Ten očividně dosahuje výrazně lepších výsledků."
   ]
  },
  {
   "cell_type": "code",
   "execution_count": 40,
   "metadata": {},
   "outputs": [
    {
     "data": {
      "text/plain": [
       "0.7646900992755568"
      ]
     },
     "execution_count": 40,
     "metadata": {},
     "output_type": "execute_result"
    }
   ],
   "source": [
    "X = data[\"text\"]\n",
    "y = data[\"genre\"]\n",
    "\n",
    "X_train, X_test, y_train, y_test = train_test_split(X, y, stratify=y, random_state=0)\n",
    "\n",
    "vec = TfidfVectorizer(stop_words=\"english\", ngram_range=(1, 2))\n",
    "X_train = vec.fit_transform(X_train)\n",
    "X_test = vec.transform(X_test)\n",
    "\n",
    "clf = LinearSVC()\n",
    "clf.fit(X_train, y_train)\n",
    "y_pred = clf.predict(X_test)\n",
    "\n",
    "accuracy_score(y_test, y_pred)"
   ]
  },
  {
   "attachments": {},
   "cell_type": "markdown",
   "metadata": {},
   "source": [
    "Zjistit můžeme seznam skupin, na které algoritmus třídí popisy (to jsou žárny filmů, které uvažujeme)."
   ]
  },
  {
   "cell_type": "code",
   "execution_count": 41,
   "metadata": {},
   "outputs": [
    {
     "data": {
      "text/plain": [
       "array(['action', 'comedy', 'horror', 'romance', 'sci-fi', 'thriller',\n",
       "       'western'], dtype=object)"
      ]
     },
     "execution_count": 41,
     "metadata": {},
     "output_type": "execute_result"
    }
   ],
   "source": [
    "clf.classes_"
   ]
  },
  {
   "attachments": {},
   "cell_type": "markdown",
   "metadata": {},
   "source": [
    "Pro každé slovo a každý žánr vygeneruje algoritmus SVM koeficient. Čím je koeficient vyšší, patří spíše koeficient k danému žánru."
   ]
  },
  {
   "cell_type": "code",
   "execution_count": 42,
   "metadata": {},
   "outputs": [
    {
     "data": {
      "text/html": [
       "<div>\n",
       "<style scoped>\n",
       "    .dataframe tbody tr th:only-of-type {\n",
       "        vertical-align: middle;\n",
       "    }\n",
       "\n",
       "    .dataframe tbody tr th {\n",
       "        vertical-align: top;\n",
       "    }\n",
       "\n",
       "    .dataframe thead th {\n",
       "        text-align: right;\n",
       "    }\n",
       "</style>\n",
       "<table border=\"1\" class=\"dataframe\">\n",
       "  <thead>\n",
       "    <tr style=\"text-align: right;\">\n",
       "      <th></th>\n",
       "      <th>action</th>\n",
       "      <th>comedy</th>\n",
       "      <th>horror</th>\n",
       "      <th>romance</th>\n",
       "      <th>sci-fi</th>\n",
       "      <th>thriller</th>\n",
       "      <th>western</th>\n",
       "    </tr>\n",
       "    <tr>\n",
       "      <th>words</th>\n",
       "      <th></th>\n",
       "      <th></th>\n",
       "      <th></th>\n",
       "      <th></th>\n",
       "      <th></th>\n",
       "      <th></th>\n",
       "      <th></th>\n",
       "    </tr>\n",
       "  </thead>\n",
       "  <tbody>\n",
       "    <tr>\n",
       "      <th>00</th>\n",
       "      <td>-0.099350</td>\n",
       "      <td>0.130305</td>\n",
       "      <td>0.120463</td>\n",
       "      <td>-1.507127e-02</td>\n",
       "      <td>-0.026517</td>\n",
       "      <td>-0.073392</td>\n",
       "      <td>-0.018794</td>\n",
       "    </tr>\n",
       "    <tr>\n",
       "      <th>00 31</th>\n",
       "      <td>-0.012009</td>\n",
       "      <td>-0.115527</td>\n",
       "      <td>0.140133</td>\n",
       "      <td>0.000000e+00</td>\n",
       "      <td>-0.014201</td>\n",
       "      <td>0.000000</td>\n",
       "      <td>0.000000</td>\n",
       "    </tr>\n",
       "    <tr>\n",
       "      <th>00 bonus</th>\n",
       "      <td>-0.001865</td>\n",
       "      <td>0.017467</td>\n",
       "      <td>0.000000</td>\n",
       "      <td>-3.823530e-03</td>\n",
       "      <td>0.000000</td>\n",
       "      <td>-0.009323</td>\n",
       "      <td>-0.003264</td>\n",
       "    </tr>\n",
       "    <tr>\n",
       "      <th>00 breast</th>\n",
       "      <td>-0.001865</td>\n",
       "      <td>0.017467</td>\n",
       "      <td>0.000000</td>\n",
       "      <td>-3.823530e-03</td>\n",
       "      <td>0.000000</td>\n",
       "      <td>-0.009323</td>\n",
       "      <td>-0.003264</td>\n",
       "    </tr>\n",
       "    <tr>\n",
       "      <th>00 cameraman</th>\n",
       "      <td>-0.000086</td>\n",
       "      <td>-0.094925</td>\n",
       "      <td>0.120942</td>\n",
       "      <td>-2.710505e-20</td>\n",
       "      <td>-0.004197</td>\n",
       "      <td>-0.019086</td>\n",
       "      <td>0.000000</td>\n",
       "    </tr>\n",
       "    <tr>\n",
       "      <th>...</th>\n",
       "      <td>...</td>\n",
       "      <td>...</td>\n",
       "      <td>...</td>\n",
       "      <td>...</td>\n",
       "      <td>...</td>\n",
       "      <td>...</td>\n",
       "      <td>...</td>\n",
       "    </tr>\n",
       "    <tr>\n",
       "      <th>źs</th>\n",
       "      <td>-0.037891</td>\n",
       "      <td>0.166505</td>\n",
       "      <td>-0.055953</td>\n",
       "      <td>-3.898884e-03</td>\n",
       "      <td>-0.018278</td>\n",
       "      <td>-0.033222</td>\n",
       "      <td>0.000000</td>\n",
       "    </tr>\n",
       "    <tr>\n",
       "      <th>źs 70</th>\n",
       "      <td>-0.018945</td>\n",
       "      <td>0.083252</td>\n",
       "      <td>-0.027976</td>\n",
       "      <td>-1.949442e-03</td>\n",
       "      <td>-0.009139</td>\n",
       "      <td>-0.016611</td>\n",
       "      <td>0.000000</td>\n",
       "    </tr>\n",
       "    <tr>\n",
       "      <th>źs sit</th>\n",
       "      <td>-0.018945</td>\n",
       "      <td>0.083252</td>\n",
       "      <td>-0.027976</td>\n",
       "      <td>-1.949442e-03</td>\n",
       "      <td>-0.009139</td>\n",
       "      <td>-0.016611</td>\n",
       "      <td>0.000000</td>\n",
       "    </tr>\n",
       "    <tr>\n",
       "      <th>žš</th>\n",
       "      <td>-0.011639</td>\n",
       "      <td>-0.007663</td>\n",
       "      <td>-0.009455</td>\n",
       "      <td>-1.473308e-02</td>\n",
       "      <td>0.053703</td>\n",
       "      <td>-0.003402</td>\n",
       "      <td>0.000000</td>\n",
       "    </tr>\n",
       "    <tr>\n",
       "      <th>žš brand</th>\n",
       "      <td>-0.011639</td>\n",
       "      <td>-0.007663</td>\n",
       "      <td>-0.009455</td>\n",
       "      <td>-1.473308e-02</td>\n",
       "      <td>0.053703</td>\n",
       "      <td>-0.003402</td>\n",
       "      <td>0.000000</td>\n",
       "    </tr>\n",
       "  </tbody>\n",
       "</table>\n",
       "<p>521095 rows × 7 columns</p>\n",
       "</div>"
      ],
      "text/plain": [
       "                action    comedy    horror       romance    sci-fi  thriller   \n",
       "words                                                                          \n",
       "00           -0.099350  0.130305  0.120463 -1.507127e-02 -0.026517 -0.073392  \\\n",
       "00 31        -0.012009 -0.115527  0.140133  0.000000e+00 -0.014201  0.000000   \n",
       "00 bonus     -0.001865  0.017467  0.000000 -3.823530e-03  0.000000 -0.009323   \n",
       "00 breast    -0.001865  0.017467  0.000000 -3.823530e-03  0.000000 -0.009323   \n",
       "00 cameraman -0.000086 -0.094925  0.120942 -2.710505e-20 -0.004197 -0.019086   \n",
       "...                ...       ...       ...           ...       ...       ...   \n",
       "źs           -0.037891  0.166505 -0.055953 -3.898884e-03 -0.018278 -0.033222   \n",
       "źs 70        -0.018945  0.083252 -0.027976 -1.949442e-03 -0.009139 -0.016611   \n",
       "źs sit       -0.018945  0.083252 -0.027976 -1.949442e-03 -0.009139 -0.016611   \n",
       "žš           -0.011639 -0.007663 -0.009455 -1.473308e-02  0.053703 -0.003402   \n",
       "žš brand     -0.011639 -0.007663 -0.009455 -1.473308e-02  0.053703 -0.003402   \n",
       "\n",
       "               western  \n",
       "words                   \n",
       "00           -0.018794  \n",
       "00 31         0.000000  \n",
       "00 bonus     -0.003264  \n",
       "00 breast    -0.003264  \n",
       "00 cameraman  0.000000  \n",
       "...                ...  \n",
       "źs            0.000000  \n",
       "źs 70         0.000000  \n",
       "źs sit        0.000000  \n",
       "žš            0.000000  \n",
       "žš brand      0.000000  \n",
       "\n",
       "[521095 rows x 7 columns]"
      ]
     },
     "execution_count": 42,
     "metadata": {},
     "output_type": "execute_result"
    }
   ],
   "source": [
    "df_coef = pandas.DataFrame(clf.coef_.T, columns=clf.classes_)\n",
    "df_coef[\"words\"] = vec.get_feature_names_out()\n",
    "df_coef = df_coef.set_index(\"words\")\n",
    "df_coef"
   ]
  },
  {
   "attachments": {},
   "cell_type": "markdown",
   "metadata": {},
   "source": [
    "Můžeme si to vyzkoušet na žánru sci-fi. Níže jsou slova, která jsou typická pro sci-fi (mají nejvyšší hodnoty koeficientů)."
   ]
  },
  {
   "cell_type": "code",
   "execution_count": 43,
   "metadata": {},
   "outputs": [
    {
     "data": {
      "text/html": [
       "<div>\n",
       "<style scoped>\n",
       "    .dataframe tbody tr th:only-of-type {\n",
       "        vertical-align: middle;\n",
       "    }\n",
       "\n",
       "    .dataframe tbody tr th {\n",
       "        vertical-align: top;\n",
       "    }\n",
       "\n",
       "    .dataframe thead th {\n",
       "        text-align: right;\n",
       "    }\n",
       "</style>\n",
       "<table border=\"1\" class=\"dataframe\">\n",
       "  <thead>\n",
       "    <tr style=\"text-align: right;\">\n",
       "      <th></th>\n",
       "      <th>action</th>\n",
       "      <th>comedy</th>\n",
       "      <th>horror</th>\n",
       "      <th>romance</th>\n",
       "      <th>sci-fi</th>\n",
       "      <th>thriller</th>\n",
       "      <th>western</th>\n",
       "    </tr>\n",
       "    <tr>\n",
       "      <th>words</th>\n",
       "      <th></th>\n",
       "      <th></th>\n",
       "      <th></th>\n",
       "      <th></th>\n",
       "      <th></th>\n",
       "      <th></th>\n",
       "      <th></th>\n",
       "    </tr>\n",
       "  </thead>\n",
       "  <tbody>\n",
       "    <tr>\n",
       "      <th>earth</th>\n",
       "      <td>-0.294948</td>\n",
       "      <td>-1.237952</td>\n",
       "      <td>-0.801129</td>\n",
       "      <td>-0.268357</td>\n",
       "      <td>3.309363</td>\n",
       "      <td>-0.806987</td>\n",
       "      <td>-0.353077</td>\n",
       "    </tr>\n",
       "    <tr>\n",
       "      <th>alien</th>\n",
       "      <td>-0.566869</td>\n",
       "      <td>-1.197390</td>\n",
       "      <td>-0.757693</td>\n",
       "      <td>-0.077991</td>\n",
       "      <td>2.773563</td>\n",
       "      <td>-0.334576</td>\n",
       "      <td>-0.112049</td>\n",
       "    </tr>\n",
       "    <tr>\n",
       "      <th>space</th>\n",
       "      <td>-0.768361</td>\n",
       "      <td>-0.964672</td>\n",
       "      <td>-0.311594</td>\n",
       "      <td>-0.133083</td>\n",
       "      <td>2.477230</td>\n",
       "      <td>-0.393163</td>\n",
       "      <td>-0.192474</td>\n",
       "    </tr>\n",
       "    <tr>\n",
       "      <th>planet</th>\n",
       "      <td>0.009480</td>\n",
       "      <td>-1.036256</td>\n",
       "      <td>-0.557429</td>\n",
       "      <td>-0.187358</td>\n",
       "      <td>2.372878</td>\n",
       "      <td>-0.624937</td>\n",
       "      <td>-0.270642</td>\n",
       "    </tr>\n",
       "    <tr>\n",
       "      <th>future</th>\n",
       "      <td>0.057929</td>\n",
       "      <td>-1.028436</td>\n",
       "      <td>-0.682450</td>\n",
       "      <td>0.173209</td>\n",
       "      <td>1.988740</td>\n",
       "      <td>-0.305909</td>\n",
       "      <td>-0.325943</td>\n",
       "    </tr>\n",
       "    <tr>\n",
       "      <th>scientist</th>\n",
       "      <td>-0.221591</td>\n",
       "      <td>-0.927773</td>\n",
       "      <td>0.184160</td>\n",
       "      <td>-0.110859</td>\n",
       "      <td>1.536081</td>\n",
       "      <td>-0.304290</td>\n",
       "      <td>-0.161322</td>\n",
       "    </tr>\n",
       "    <tr>\n",
       "      <th>humans</th>\n",
       "      <td>0.000865</td>\n",
       "      <td>-0.684499</td>\n",
       "      <td>-0.462961</td>\n",
       "      <td>-0.162125</td>\n",
       "      <td>1.530960</td>\n",
       "      <td>-0.128611</td>\n",
       "      <td>-0.097184</td>\n",
       "    </tr>\n",
       "    <tr>\n",
       "      <th>fi</th>\n",
       "      <td>-0.249849</td>\n",
       "      <td>-0.797507</td>\n",
       "      <td>-0.137050</td>\n",
       "      <td>0.016366</td>\n",
       "      <td>1.432206</td>\n",
       "      <td>-0.296492</td>\n",
       "      <td>-0.099476</td>\n",
       "    </tr>\n",
       "    <tr>\n",
       "      <th>universe</th>\n",
       "      <td>0.071515</td>\n",
       "      <td>-0.684298</td>\n",
       "      <td>-0.239304</td>\n",
       "      <td>-0.069726</td>\n",
       "      <td>1.418393</td>\n",
       "      <td>-0.461758</td>\n",
       "      <td>-0.137468</td>\n",
       "    </tr>\n",
       "    <tr>\n",
       "      <th>science</th>\n",
       "      <td>-0.321329</td>\n",
       "      <td>-0.759899</td>\n",
       "      <td>0.076715</td>\n",
       "      <td>-0.018452</td>\n",
       "      <td>1.391318</td>\n",
       "      <td>-0.423129</td>\n",
       "      <td>0.002295</td>\n",
       "    </tr>\n",
       "    <tr>\n",
       "      <th>sci</th>\n",
       "      <td>-0.227335</td>\n",
       "      <td>-0.755820</td>\n",
       "      <td>-0.129814</td>\n",
       "      <td>0.003856</td>\n",
       "      <td>1.376896</td>\n",
       "      <td>-0.281176</td>\n",
       "      <td>-0.110311</td>\n",
       "    </tr>\n",
       "    <tr>\n",
       "      <th>humanity</th>\n",
       "      <td>-0.175897</td>\n",
       "      <td>-0.580784</td>\n",
       "      <td>0.090443</td>\n",
       "      <td>-0.127027</td>\n",
       "      <td>1.333528</td>\n",
       "      <td>-0.562639</td>\n",
       "      <td>0.016039</td>\n",
       "    </tr>\n",
       "    <tr>\n",
       "      <th>government</th>\n",
       "      <td>0.366413</td>\n",
       "      <td>-1.143244</td>\n",
       "      <td>-0.352573</td>\n",
       "      <td>-0.350111</td>\n",
       "      <td>1.326601</td>\n",
       "      <td>-0.066603</td>\n",
       "      <td>0.108312</td>\n",
       "    </tr>\n",
       "    <tr>\n",
       "      <th>sci fi</th>\n",
       "      <td>-0.227117</td>\n",
       "      <td>-0.729497</td>\n",
       "      <td>-0.111228</td>\n",
       "      <td>0.018662</td>\n",
       "      <td>1.288833</td>\n",
       "      <td>-0.281358</td>\n",
       "      <td>-0.093601</td>\n",
       "    </tr>\n",
       "    <tr>\n",
       "      <th>human</th>\n",
       "      <td>-0.668776</td>\n",
       "      <td>-1.128075</td>\n",
       "      <td>0.873862</td>\n",
       "      <td>-0.024990</td>\n",
       "      <td>1.272349</td>\n",
       "      <td>-0.213637</td>\n",
       "      <td>-0.350820</td>\n",
       "    </tr>\n",
       "    <tr>\n",
       "      <th>ship</th>\n",
       "      <td>-0.422486</td>\n",
       "      <td>-0.293288</td>\n",
       "      <td>-0.014607</td>\n",
       "      <td>0.090016</td>\n",
       "      <td>1.217304</td>\n",
       "      <td>-0.489656</td>\n",
       "      <td>-0.191821</td>\n",
       "    </tr>\n",
       "    <tr>\n",
       "      <th>scientists</th>\n",
       "      <td>0.016958</td>\n",
       "      <td>-0.729729</td>\n",
       "      <td>-0.209927</td>\n",
       "      <td>0.000022</td>\n",
       "      <td>1.182991</td>\n",
       "      <td>-0.142495</td>\n",
       "      <td>-0.115820</td>\n",
       "    </tr>\n",
       "    <tr>\n",
       "      <th>time travel</th>\n",
       "      <td>-0.231669</td>\n",
       "      <td>-0.453725</td>\n",
       "      <td>-0.163973</td>\n",
       "      <td>-0.120433</td>\n",
       "      <td>1.119727</td>\n",
       "      <td>-0.134925</td>\n",
       "      <td>-0.076267</td>\n",
       "    </tr>\n",
       "    <tr>\n",
       "      <th>world</th>\n",
       "      <td>0.348880</td>\n",
       "      <td>-0.310323</td>\n",
       "      <td>-0.628564</td>\n",
       "      <td>-0.335527</td>\n",
       "      <td>1.098644</td>\n",
       "      <td>0.416930</td>\n",
       "      <td>-0.934910</td>\n",
       "    </tr>\n",
       "    <tr>\n",
       "      <th>galaxy</th>\n",
       "      <td>-0.121718</td>\n",
       "      <td>-0.477540</td>\n",
       "      <td>-0.229658</td>\n",
       "      <td>-0.015948</td>\n",
       "      <td>1.072626</td>\n",
       "      <td>-0.245948</td>\n",
       "      <td>-0.060839</td>\n",
       "    </tr>\n",
       "  </tbody>\n",
       "</table>\n",
       "</div>"
      ],
      "text/plain": [
       "               action    comedy    horror   romance    sci-fi  thriller   \n",
       "words                                                                     \n",
       "earth       -0.294948 -1.237952 -0.801129 -0.268357  3.309363 -0.806987  \\\n",
       "alien       -0.566869 -1.197390 -0.757693 -0.077991  2.773563 -0.334576   \n",
       "space       -0.768361 -0.964672 -0.311594 -0.133083  2.477230 -0.393163   \n",
       "planet       0.009480 -1.036256 -0.557429 -0.187358  2.372878 -0.624937   \n",
       "future       0.057929 -1.028436 -0.682450  0.173209  1.988740 -0.305909   \n",
       "scientist   -0.221591 -0.927773  0.184160 -0.110859  1.536081 -0.304290   \n",
       "humans       0.000865 -0.684499 -0.462961 -0.162125  1.530960 -0.128611   \n",
       "fi          -0.249849 -0.797507 -0.137050  0.016366  1.432206 -0.296492   \n",
       "universe     0.071515 -0.684298 -0.239304 -0.069726  1.418393 -0.461758   \n",
       "science     -0.321329 -0.759899  0.076715 -0.018452  1.391318 -0.423129   \n",
       "sci         -0.227335 -0.755820 -0.129814  0.003856  1.376896 -0.281176   \n",
       "humanity    -0.175897 -0.580784  0.090443 -0.127027  1.333528 -0.562639   \n",
       "government   0.366413 -1.143244 -0.352573 -0.350111  1.326601 -0.066603   \n",
       "sci fi      -0.227117 -0.729497 -0.111228  0.018662  1.288833 -0.281358   \n",
       "human       -0.668776 -1.128075  0.873862 -0.024990  1.272349 -0.213637   \n",
       "ship        -0.422486 -0.293288 -0.014607  0.090016  1.217304 -0.489656   \n",
       "scientists   0.016958 -0.729729 -0.209927  0.000022  1.182991 -0.142495   \n",
       "time travel -0.231669 -0.453725 -0.163973 -0.120433  1.119727 -0.134925   \n",
       "world        0.348880 -0.310323 -0.628564 -0.335527  1.098644  0.416930   \n",
       "galaxy      -0.121718 -0.477540 -0.229658 -0.015948  1.072626 -0.245948   \n",
       "\n",
       "              western  \n",
       "words                  \n",
       "earth       -0.353077  \n",
       "alien       -0.112049  \n",
       "space       -0.192474  \n",
       "planet      -0.270642  \n",
       "future      -0.325943  \n",
       "scientist   -0.161322  \n",
       "humans      -0.097184  \n",
       "fi          -0.099476  \n",
       "universe    -0.137468  \n",
       "science      0.002295  \n",
       "sci         -0.110311  \n",
       "humanity     0.016039  \n",
       "government   0.108312  \n",
       "sci fi      -0.093601  \n",
       "human       -0.350820  \n",
       "ship        -0.191821  \n",
       "scientists  -0.115820  \n",
       "time travel -0.076267  \n",
       "world       -0.934910  \n",
       "galaxy      -0.060839  "
      ]
     },
     "execution_count": 43,
     "metadata": {},
     "output_type": "execute_result"
    }
   ],
   "source": [
    "df_coef.sort_values(\"sci-fi\", ascending=False).head(20)"
   ]
  },
  {
   "attachments": {},
   "cell_type": "markdown",
   "metadata": {},
   "source": [
    "Níže jsou slova, která která jsou typická pro jiné žárny než pro sci-fi (mají nejnižší hodnoty koeficientů)."
   ]
  },
  {
   "cell_type": "code",
   "execution_count": 44,
   "metadata": {},
   "outputs": [
    {
     "data": {
      "text/html": [
       "<div>\n",
       "<style scoped>\n",
       "    .dataframe tbody tr th:only-of-type {\n",
       "        vertical-align: middle;\n",
       "    }\n",
       "\n",
       "    .dataframe tbody tr th {\n",
       "        vertical-align: top;\n",
       "    }\n",
       "\n",
       "    .dataframe thead th {\n",
       "        text-align: right;\n",
       "    }\n",
       "</style>\n",
       "<table border=\"1\" class=\"dataframe\">\n",
       "  <thead>\n",
       "    <tr style=\"text-align: right;\">\n",
       "      <th></th>\n",
       "      <th>action</th>\n",
       "      <th>comedy</th>\n",
       "      <th>horror</th>\n",
       "      <th>romance</th>\n",
       "      <th>sci-fi</th>\n",
       "      <th>thriller</th>\n",
       "      <th>western</th>\n",
       "    </tr>\n",
       "    <tr>\n",
       "      <th>words</th>\n",
       "      <th></th>\n",
       "      <th></th>\n",
       "      <th></th>\n",
       "      <th></th>\n",
       "      <th></th>\n",
       "      <th></th>\n",
       "      <th></th>\n",
       "    </tr>\n",
       "  </thead>\n",
       "  <tbody>\n",
       "    <tr>\n",
       "      <th>vampire</th>\n",
       "      <td>-0.688379</td>\n",
       "      <td>-1.086779e+00</td>\n",
       "      <td>2.751205</td>\n",
       "      <td>-0.093724</td>\n",
       "      <td>-0.378507</td>\n",
       "      <td>-0.610544</td>\n",
       "      <td>-0.218636</td>\n",
       "    </tr>\n",
       "    <tr>\n",
       "      <th>better</th>\n",
       "      <td>0.005629</td>\n",
       "      <td>9.727023e-01</td>\n",
       "      <td>0.039949</td>\n",
       "      <td>-0.250133</td>\n",
       "      <td>-0.378783</td>\n",
       "      <td>-0.404199</td>\n",
       "      <td>-0.107159</td>\n",
       "    </tr>\n",
       "    <tr>\n",
       "      <th>face</th>\n",
       "      <td>0.235859</td>\n",
       "      <td>-7.031105e-01</td>\n",
       "      <td>0.311122</td>\n",
       "      <td>0.189370</td>\n",
       "      <td>-0.382372</td>\n",
       "      <td>0.272669</td>\n",
       "      <td>-0.020216</td>\n",
       "    </tr>\n",
       "    <tr>\n",
       "      <th>brother</th>\n",
       "      <td>0.345755</td>\n",
       "      <td>-9.504231e-01</td>\n",
       "      <td>0.153662</td>\n",
       "      <td>0.079176</td>\n",
       "      <td>-0.383114</td>\n",
       "      <td>0.112089</td>\n",
       "      <td>0.684899</td>\n",
       "    </tr>\n",
       "    <tr>\n",
       "      <th>gets</th>\n",
       "      <td>-0.137309</td>\n",
       "      <td>5.323844e-01</td>\n",
       "      <td>-0.851606</td>\n",
       "      <td>0.097244</td>\n",
       "      <td>-0.389205</td>\n",
       "      <td>0.335903</td>\n",
       "      <td>0.259116</td>\n",
       "    </tr>\n",
       "    <tr>\n",
       "      <th>house</th>\n",
       "      <td>-1.068138</td>\n",
       "      <td>-6.578624e-01</td>\n",
       "      <td>2.113204</td>\n",
       "      <td>-0.307470</td>\n",
       "      <td>-0.395766</td>\n",
       "      <td>0.115149</td>\n",
       "      <td>-0.808791</td>\n",
       "    </tr>\n",
       "    <tr>\n",
       "      <th>girlfriend</th>\n",
       "      <td>-0.256424</td>\n",
       "      <td>8.704555e-01</td>\n",
       "      <td>0.047938</td>\n",
       "      <td>-0.116427</td>\n",
       "      <td>-0.411818</td>\n",
       "      <td>0.034272</td>\n",
       "      <td>-0.454765</td>\n",
       "    </tr>\n",
       "    <tr>\n",
       "      <th>decide</th>\n",
       "      <td>-0.180514</td>\n",
       "      <td>7.390595e-01</td>\n",
       "      <td>0.228444</td>\n",
       "      <td>-0.032534</td>\n",
       "      <td>-0.427470</td>\n",
       "      <td>-0.425363</td>\n",
       "      <td>-0.201886</td>\n",
       "    </tr>\n",
       "    <tr>\n",
       "      <th>orbot</th>\n",
       "      <td>0.368715</td>\n",
       "      <td>2.602085e-18</td>\n",
       "      <td>0.000000</td>\n",
       "      <td>0.000000</td>\n",
       "      <td>-0.436092</td>\n",
       "      <td>0.000000</td>\n",
       "      <td>0.000000</td>\n",
       "    </tr>\n",
       "    <tr>\n",
       "      <th>town</th>\n",
       "      <td>-0.373893</td>\n",
       "      <td>-8.471521e-01</td>\n",
       "      <td>0.549445</td>\n",
       "      <td>-0.006366</td>\n",
       "      <td>-0.445409</td>\n",
       "      <td>-0.388991</td>\n",
       "      <td>1.406062</td>\n",
       "    </tr>\n",
       "    <tr>\n",
       "      <th>gang</th>\n",
       "      <td>0.249657</td>\n",
       "      <td>-1.227015e+00</td>\n",
       "      <td>-1.280388</td>\n",
       "      <td>-0.244023</td>\n",
       "      <td>-0.470468</td>\n",
       "      <td>-0.673959</td>\n",
       "      <td>2.659751</td>\n",
       "    </tr>\n",
       "    <tr>\n",
       "      <th>blood</th>\n",
       "      <td>0.070103</td>\n",
       "      <td>-2.095157e+00</td>\n",
       "      <td>2.955199</td>\n",
       "      <td>-0.268748</td>\n",
       "      <td>-0.490950</td>\n",
       "      <td>-0.295026</td>\n",
       "      <td>-0.360117</td>\n",
       "    </tr>\n",
       "    <tr>\n",
       "      <th>daughter</th>\n",
       "      <td>-0.084204</td>\n",
       "      <td>-1.236320e-01</td>\n",
       "      <td>-0.082629</td>\n",
       "      <td>0.068919</td>\n",
       "      <td>-0.507533</td>\n",
       "      <td>0.319188</td>\n",
       "      <td>0.407150</td>\n",
       "    </tr>\n",
       "    <tr>\n",
       "      <th>money</th>\n",
       "      <td>-0.190082</td>\n",
       "      <td>1.224777e+00</td>\n",
       "      <td>-1.149533</td>\n",
       "      <td>-0.363788</td>\n",
       "      <td>-0.511728</td>\n",
       "      <td>-0.073910</td>\n",
       "      <td>0.522966</td>\n",
       "    </tr>\n",
       "    <tr>\n",
       "      <th>killer</th>\n",
       "      <td>-0.430745</td>\n",
       "      <td>-2.758873e+00</td>\n",
       "      <td>1.732322</td>\n",
       "      <td>-0.331678</td>\n",
       "      <td>-0.513768</td>\n",
       "      <td>1.219593</td>\n",
       "      <td>0.237284</td>\n",
       "    </tr>\n",
       "    <tr>\n",
       "      <th>horror</th>\n",
       "      <td>-0.694268</td>\n",
       "      <td>-3.100754e+00</td>\n",
       "      <td>5.102483</td>\n",
       "      <td>-0.428011</td>\n",
       "      <td>-0.548596</td>\n",
       "      <td>-0.960010</td>\n",
       "      <td>-0.334737</td>\n",
       "    </tr>\n",
       "    <tr>\n",
       "      <th>night</th>\n",
       "      <td>-0.676490</td>\n",
       "      <td>-9.881863e-01</td>\n",
       "      <td>2.131724</td>\n",
       "      <td>-0.050261</td>\n",
       "      <td>-0.550211</td>\n",
       "      <td>0.055371</td>\n",
       "      <td>-0.681647</td>\n",
       "    </tr>\n",
       "    <tr>\n",
       "      <th>zombies</th>\n",
       "      <td>-0.518890</td>\n",
       "      <td>-9.270864e-01</td>\n",
       "      <td>2.249213</td>\n",
       "      <td>-0.099847</td>\n",
       "      <td>-0.580269</td>\n",
       "      <td>-0.331629</td>\n",
       "      <td>-0.190089</td>\n",
       "    </tr>\n",
       "    <tr>\n",
       "      <th>love</th>\n",
       "      <td>-0.620866</td>\n",
       "      <td>-5.264385e-01</td>\n",
       "      <td>-1.533427</td>\n",
       "      <td>3.576646</td>\n",
       "      <td>-0.586197</td>\n",
       "      <td>-0.910660</td>\n",
       "      <td>-0.521328</td>\n",
       "    </tr>\n",
       "    <tr>\n",
       "      <th>comedy</th>\n",
       "      <td>-1.583407</td>\n",
       "      <td>6.076234e+00</td>\n",
       "      <td>-1.855466</td>\n",
       "      <td>-0.921851</td>\n",
       "      <td>-0.955582</td>\n",
       "      <td>-1.849215</td>\n",
       "      <td>-0.780058</td>\n",
       "    </tr>\n",
       "  </tbody>\n",
       "</table>\n",
       "</div>"
      ],
      "text/plain": [
       "              action        comedy    horror   romance    sci-fi  thriller   \n",
       "words                                                                        \n",
       "vampire    -0.688379 -1.086779e+00  2.751205 -0.093724 -0.378507 -0.610544  \\\n",
       "better      0.005629  9.727023e-01  0.039949 -0.250133 -0.378783 -0.404199   \n",
       "face        0.235859 -7.031105e-01  0.311122  0.189370 -0.382372  0.272669   \n",
       "brother     0.345755 -9.504231e-01  0.153662  0.079176 -0.383114  0.112089   \n",
       "gets       -0.137309  5.323844e-01 -0.851606  0.097244 -0.389205  0.335903   \n",
       "house      -1.068138 -6.578624e-01  2.113204 -0.307470 -0.395766  0.115149   \n",
       "girlfriend -0.256424  8.704555e-01  0.047938 -0.116427 -0.411818  0.034272   \n",
       "decide     -0.180514  7.390595e-01  0.228444 -0.032534 -0.427470 -0.425363   \n",
       "orbot       0.368715  2.602085e-18  0.000000  0.000000 -0.436092  0.000000   \n",
       "town       -0.373893 -8.471521e-01  0.549445 -0.006366 -0.445409 -0.388991   \n",
       "gang        0.249657 -1.227015e+00 -1.280388 -0.244023 -0.470468 -0.673959   \n",
       "blood       0.070103 -2.095157e+00  2.955199 -0.268748 -0.490950 -0.295026   \n",
       "daughter   -0.084204 -1.236320e-01 -0.082629  0.068919 -0.507533  0.319188   \n",
       "money      -0.190082  1.224777e+00 -1.149533 -0.363788 -0.511728 -0.073910   \n",
       "killer     -0.430745 -2.758873e+00  1.732322 -0.331678 -0.513768  1.219593   \n",
       "horror     -0.694268 -3.100754e+00  5.102483 -0.428011 -0.548596 -0.960010   \n",
       "night      -0.676490 -9.881863e-01  2.131724 -0.050261 -0.550211  0.055371   \n",
       "zombies    -0.518890 -9.270864e-01  2.249213 -0.099847 -0.580269 -0.331629   \n",
       "love       -0.620866 -5.264385e-01 -1.533427  3.576646 -0.586197 -0.910660   \n",
       "comedy     -1.583407  6.076234e+00 -1.855466 -0.921851 -0.955582 -1.849215   \n",
       "\n",
       "             western  \n",
       "words                 \n",
       "vampire    -0.218636  \n",
       "better     -0.107159  \n",
       "face       -0.020216  \n",
       "brother     0.684899  \n",
       "gets        0.259116  \n",
       "house      -0.808791  \n",
       "girlfriend -0.454765  \n",
       "decide     -0.201886  \n",
       "orbot       0.000000  \n",
       "town        1.406062  \n",
       "gang        2.659751  \n",
       "blood      -0.360117  \n",
       "daughter    0.407150  \n",
       "money       0.522966  \n",
       "killer      0.237284  \n",
       "horror     -0.334737  \n",
       "night      -0.681647  \n",
       "zombies    -0.190089  \n",
       "love       -0.521328  \n",
       "comedy     -0.780058  "
      ]
     },
     "execution_count": 44,
     "metadata": {},
     "output_type": "execute_result"
    }
   ],
   "source": [
    "df_coef.sort_values(\"sci-fi\", ascending=False).tail(20)"
   ]
  }
 ],
 "metadata": {
  "kernelspec": {
   "display_name": "venv",
   "language": "python",
   "name": "python3"
  },
  "language_info": {
   "codemirror_mode": {
    "name": "ipython",
    "version": 3
   },
   "file_extension": ".py",
   "mimetype": "text/x-python",
   "name": "python",
   "nbconvert_exporter": "python",
   "pygments_lexer": "ipython3",
   "version": "3.9.6"
  },
  "orig_nbformat": 4
 },
 "nbformat": 4,
 "nbformat_minor": 2
}
