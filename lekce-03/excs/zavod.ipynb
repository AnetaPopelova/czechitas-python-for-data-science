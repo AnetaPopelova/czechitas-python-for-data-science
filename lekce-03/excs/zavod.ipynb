{
 "cells": [
  {
   "attachments": {},
   "cell_type": "markdown",
   "metadata": {},
   "source": [
    "# Cvičení\n",
    "\n",
    "## Závod\n",
    "\n",
    "Uvažuj časy závodníků za ročníky půlmaratonu 2019 a 2020, které jsou uloženy v souboru [half_marathon.csv](half_marathon.csv). V souboru je uloženo jméno závodníka, jeho čas a rok závodu, ke kterému se čas vztahuje. Tvým úkolem je spočítat, o kolik se změnil průměrný čas závodníků a zda se v průměru zlepšili či zhoršili (například protože kvůli lockdownům méně či více trénovali).\n",
    "\n"
   ]
  },
  {
   "cell_type": "code",
   "execution_count": 19,
   "metadata": {},
   "outputs": [
    {
     "data": {
      "text/html": [
       "<div>\n",
       "<style scoped>\n",
       "    .dataframe tbody tr th:only-of-type {\n",
       "        vertical-align: middle;\n",
       "    }\n",
       "\n",
       "    .dataframe tbody tr th {\n",
       "        vertical-align: top;\n",
       "    }\n",
       "\n",
       "    .dataframe thead th {\n",
       "        text-align: right;\n",
       "    }\n",
       "</style>\n",
       "<table border=\"1\" class=\"dataframe\">\n",
       "  <thead>\n",
       "    <tr style=\"text-align: right;\">\n",
       "      <th></th>\n",
       "      <th>Jmeno</th>\n",
       "      <th>Cas zavodnika</th>\n",
       "      <th>Rok zavodu</th>\n",
       "    </tr>\n",
       "  </thead>\n",
       "  <tbody>\n",
       "    <tr>\n",
       "      <th>0</th>\n",
       "      <td>Eisner Tomáš</td>\n",
       "      <td>01:21:25</td>\n",
       "      <td>2019</td>\n",
       "    </tr>\n",
       "    <tr>\n",
       "      <th>1</th>\n",
       "      <td>Hofhans Tomáš</td>\n",
       "      <td>01:27:43</td>\n",
       "      <td>2019</td>\n",
       "    </tr>\n",
       "    <tr>\n",
       "      <th>2</th>\n",
       "      <td>Krs Jan</td>\n",
       "      <td>01:28:23</td>\n",
       "      <td>2019</td>\n",
       "    </tr>\n",
       "    <tr>\n",
       "      <th>3</th>\n",
       "      <td>Kasal Jan</td>\n",
       "      <td>01:29:09</td>\n",
       "      <td>2019</td>\n",
       "    </tr>\n",
       "    <tr>\n",
       "      <th>4</th>\n",
       "      <td>Bryan Lauwers</td>\n",
       "      <td>01:30:18</td>\n",
       "      <td>2019</td>\n",
       "    </tr>\n",
       "  </tbody>\n",
       "</table>\n",
       "</div>"
      ],
      "text/plain": [
       "           Jmeno Cas zavodnika  Rok zavodu\n",
       "0   Eisner Tomáš      01:21:25        2019\n",
       "1  Hofhans Tomáš      01:27:43        2019\n",
       "2        Krs Jan      01:28:23        2019\n",
       "3      Kasal Jan      01:29:09        2019\n",
       "4  Bryan Lauwers      01:30:18        2019"
      ]
     },
     "execution_count": 19,
     "metadata": {},
     "output_type": "execute_result"
    }
   ],
   "source": [
    "import pandas\n",
    "df = pandas.read_csv(\"half_marathon.csv\")\n",
    "df.head()"
   ]
  },
  {
   "attachments": {},
   "cell_type": "markdown",
   "metadata": {},
   "source": [
    "Můžeš využít následující postup:\n",
    "\n",
    "- Seřaď si data (je třeba seřadit data dle jména závodníka i dle roku závodu).\n"
   ]
  },
  {
   "cell_type": "code",
   "execution_count": 20,
   "metadata": {},
   "outputs": [
    {
     "data": {
      "text/html": [
       "<div>\n",
       "<style scoped>\n",
       "    .dataframe tbody tr th:only-of-type {\n",
       "        vertical-align: middle;\n",
       "    }\n",
       "\n",
       "    .dataframe tbody tr th {\n",
       "        vertical-align: top;\n",
       "    }\n",
       "\n",
       "    .dataframe thead th {\n",
       "        text-align: right;\n",
       "    }\n",
       "</style>\n",
       "<table border=\"1\" class=\"dataframe\">\n",
       "  <thead>\n",
       "    <tr style=\"text-align: right;\">\n",
       "      <th></th>\n",
       "      <th>Jmeno</th>\n",
       "      <th>Cas zavodnika</th>\n",
       "      <th>Rok zavodu</th>\n",
       "    </tr>\n",
       "  </thead>\n",
       "  <tbody>\n",
       "    <tr>\n",
       "      <th>35</th>\n",
       "      <td>Adamcová Helena</td>\n",
       "      <td>01:46:07</td>\n",
       "      <td>2019</td>\n",
       "    </tr>\n",
       "    <tr>\n",
       "      <th>76</th>\n",
       "      <td>Aster Vladimír</td>\n",
       "      <td>01:53:25</td>\n",
       "      <td>2019</td>\n",
       "    </tr>\n",
       "    <tr>\n",
       "      <th>374</th>\n",
       "      <td>Aster Vladimír</td>\n",
       "      <td>02:00:19</td>\n",
       "      <td>2020</td>\n",
       "    </tr>\n",
       "    <tr>\n",
       "      <th>231</th>\n",
       "      <td>Asterová Jana</td>\n",
       "      <td>02:16:59</td>\n",
       "      <td>2019</td>\n",
       "    </tr>\n",
       "    <tr>\n",
       "      <th>521</th>\n",
       "      <td>Asterová Jana</td>\n",
       "      <td>02:30:01</td>\n",
       "      <td>2020</td>\n",
       "    </tr>\n",
       "  </tbody>\n",
       "</table>\n",
       "</div>"
      ],
      "text/plain": [
       "               Jmeno Cas zavodnika  Rok zavodu\n",
       "35   Adamcová Helena      01:46:07        2019\n",
       "76    Aster Vladimír      01:53:25        2019\n",
       "374   Aster Vladimír      02:00:19        2020\n",
       "231    Asterová Jana      02:16:59        2019\n",
       "521    Asterová Jana      02:30:01        2020"
      ]
     },
     "execution_count": 20,
     "metadata": {},
     "output_type": "execute_result"
    }
   ],
   "source": [
    "df = df.sort_values([\"Jmeno\", \"Rok zavodu\"])\n",
    "df.head()"
   ]
  },
  {
   "attachments": {},
   "cell_type": "markdown",
   "metadata": {},
   "source": [
    "- Převeď sloupec s časem závodníka na typ `datetime`. Můžeš využít stejný postup, jaký jsme si ukázali v lekci. Protože jde pouze o časový údaj, pandas k němu připojí dnešní datum, aby byly ve sloupci datum i čas. Toho si ale nevšímej, u obou sloupců je datum stejný, takže na porovnání údajů to nebude mít vliv.\n"
   ]
  },
  {
   "cell_type": "code",
   "execution_count": 22,
   "metadata": {},
   "outputs": [
    {
     "data": {
      "text/html": [
       "<div>\n",
       "<style scoped>\n",
       "    .dataframe tbody tr th:only-of-type {\n",
       "        vertical-align: middle;\n",
       "    }\n",
       "\n",
       "    .dataframe tbody tr th {\n",
       "        vertical-align: top;\n",
       "    }\n",
       "\n",
       "    .dataframe thead th {\n",
       "        text-align: right;\n",
       "    }\n",
       "</style>\n",
       "<table border=\"1\" class=\"dataframe\">\n",
       "  <thead>\n",
       "    <tr style=\"text-align: right;\">\n",
       "      <th></th>\n",
       "      <th>Jmeno</th>\n",
       "      <th>Cas zavodnika</th>\n",
       "      <th>Rok zavodu</th>\n",
       "    </tr>\n",
       "  </thead>\n",
       "  <tbody>\n",
       "    <tr>\n",
       "      <th>35</th>\n",
       "      <td>Adamcová Helena</td>\n",
       "      <td>2023-04-20 01:46:07</td>\n",
       "      <td>2019</td>\n",
       "    </tr>\n",
       "    <tr>\n",
       "      <th>76</th>\n",
       "      <td>Aster Vladimír</td>\n",
       "      <td>2023-04-20 01:53:25</td>\n",
       "      <td>2019</td>\n",
       "    </tr>\n",
       "    <tr>\n",
       "      <th>374</th>\n",
       "      <td>Aster Vladimír</td>\n",
       "      <td>2023-04-20 02:00:19</td>\n",
       "      <td>2020</td>\n",
       "    </tr>\n",
       "    <tr>\n",
       "      <th>231</th>\n",
       "      <td>Asterová Jana</td>\n",
       "      <td>2023-04-20 02:16:59</td>\n",
       "      <td>2019</td>\n",
       "    </tr>\n",
       "    <tr>\n",
       "      <th>521</th>\n",
       "      <td>Asterová Jana</td>\n",
       "      <td>2023-04-20 02:30:01</td>\n",
       "      <td>2020</td>\n",
       "    </tr>\n",
       "  </tbody>\n",
       "</table>\n",
       "</div>"
      ],
      "text/plain": [
       "               Jmeno       Cas zavodnika  Rok zavodu\n",
       "35   Adamcová Helena 2023-04-20 01:46:07        2019\n",
       "76    Aster Vladimír 2023-04-20 01:53:25        2019\n",
       "374   Aster Vladimír 2023-04-20 02:00:19        2020\n",
       "231    Asterová Jana 2023-04-20 02:16:59        2019\n",
       "521    Asterová Jana 2023-04-20 02:30:01        2020"
      ]
     },
     "execution_count": 22,
     "metadata": {},
     "output_type": "execute_result"
    }
   ],
   "source": [
    "df[\"Cas zavodnika\"] = pandas.to_datetime(df[\"Cas zavodnika\"])\n",
    "df.head()"
   ]
  },
  {
   "attachments": {},
   "cell_type": "markdown",
   "metadata": {},
   "source": [
    "- Pomocí metody `shift()` si dej na jeden řádek výsledky obou závodů. Je nutné ji použít v kombinaci s metodou `groupby()`, jak je vidět níže. Je třeba nahradit `X` vhodně zvoleným číslem.\n",
    "\n",
    "```py\n",
    "df_joined[\"Cas zavodnika 2020\"] = df_joined.groupby(\"Jmeno\")[\"Cas zavodnika\"].shift(X)\n",
    "```"
   ]
  },
  {
   "cell_type": "code",
   "execution_count": 24,
   "metadata": {},
   "outputs": [
    {
     "data": {
      "text/html": [
       "<div>\n",
       "<style scoped>\n",
       "    .dataframe tbody tr th:only-of-type {\n",
       "        vertical-align: middle;\n",
       "    }\n",
       "\n",
       "    .dataframe tbody tr th {\n",
       "        vertical-align: top;\n",
       "    }\n",
       "\n",
       "    .dataframe thead th {\n",
       "        text-align: right;\n",
       "    }\n",
       "</style>\n",
       "<table border=\"1\" class=\"dataframe\">\n",
       "  <thead>\n",
       "    <tr style=\"text-align: right;\">\n",
       "      <th></th>\n",
       "      <th>Jmeno</th>\n",
       "      <th>Cas zavodnika</th>\n",
       "      <th>Rok zavodu</th>\n",
       "      <th>Cas zavodnika 2020</th>\n",
       "    </tr>\n",
       "  </thead>\n",
       "  <tbody>\n",
       "    <tr>\n",
       "      <th>35</th>\n",
       "      <td>Adamcová Helena</td>\n",
       "      <td>2023-04-20 01:46:07</td>\n",
       "      <td>2019</td>\n",
       "      <td>NaT</td>\n",
       "    </tr>\n",
       "    <tr>\n",
       "      <th>76</th>\n",
       "      <td>Aster Vladimír</td>\n",
       "      <td>2023-04-20 01:53:25</td>\n",
       "      <td>2019</td>\n",
       "      <td>2023-04-20 02:00:19</td>\n",
       "    </tr>\n",
       "    <tr>\n",
       "      <th>374</th>\n",
       "      <td>Aster Vladimír</td>\n",
       "      <td>2023-04-20 02:00:19</td>\n",
       "      <td>2020</td>\n",
       "      <td>NaT</td>\n",
       "    </tr>\n",
       "    <tr>\n",
       "      <th>231</th>\n",
       "      <td>Asterová Jana</td>\n",
       "      <td>2023-04-20 02:16:59</td>\n",
       "      <td>2019</td>\n",
       "      <td>2023-04-20 02:30:01</td>\n",
       "    </tr>\n",
       "    <tr>\n",
       "      <th>521</th>\n",
       "      <td>Asterová Jana</td>\n",
       "      <td>2023-04-20 02:30:01</td>\n",
       "      <td>2020</td>\n",
       "      <td>NaT</td>\n",
       "    </tr>\n",
       "  </tbody>\n",
       "</table>\n",
       "</div>"
      ],
      "text/plain": [
       "               Jmeno       Cas zavodnika  Rok zavodu  Cas zavodnika 2020\n",
       "35   Adamcová Helena 2023-04-20 01:46:07        2019                 NaT\n",
       "76    Aster Vladimír 2023-04-20 01:53:25        2019 2023-04-20 02:00:19\n",
       "374   Aster Vladimír 2023-04-20 02:00:19        2020                 NaT\n",
       "231    Asterová Jana 2023-04-20 02:16:59        2019 2023-04-20 02:30:01\n",
       "521    Asterová Jana 2023-04-20 02:30:01        2020                 NaT"
      ]
     },
     "execution_count": 24,
     "metadata": {},
     "output_type": "execute_result"
    }
   ],
   "source": [
    "df[\"Cas zavodnika 2020\"] = df.groupby(\"Jmeno\")[\"Cas zavodnika\"].shift(-1)\n",
    "df.head()"
   ]
  },
  {
   "attachments": {},
   "cell_type": "markdown",
   "metadata": {},
   "source": [
    "\n",
    "- Vyřaď z tabulky neúplné řádky pomocí metody `dropna()`.\n"
   ]
  },
  {
   "cell_type": "code",
   "execution_count": 26,
   "metadata": {},
   "outputs": [
    {
     "data": {
      "text/html": [
       "<div>\n",
       "<style scoped>\n",
       "    .dataframe tbody tr th:only-of-type {\n",
       "        vertical-align: middle;\n",
       "    }\n",
       "\n",
       "    .dataframe tbody tr th {\n",
       "        vertical-align: top;\n",
       "    }\n",
       "\n",
       "    .dataframe thead th {\n",
       "        text-align: right;\n",
       "    }\n",
       "</style>\n",
       "<table border=\"1\" class=\"dataframe\">\n",
       "  <thead>\n",
       "    <tr style=\"text-align: right;\">\n",
       "      <th></th>\n",
       "      <th>Jmeno</th>\n",
       "      <th>Cas zavodnika</th>\n",
       "      <th>Rok zavodu</th>\n",
       "      <th>Cas zavodnika 2020</th>\n",
       "      <th>Zmena</th>\n",
       "    </tr>\n",
       "  </thead>\n",
       "  <tbody>\n",
       "    <tr>\n",
       "      <th>76</th>\n",
       "      <td>Aster Vladimír</td>\n",
       "      <td>2023-04-20 01:53:25</td>\n",
       "      <td>2019</td>\n",
       "      <td>2023-04-20 02:00:19</td>\n",
       "      <td>0 days 00:06:54</td>\n",
       "    </tr>\n",
       "    <tr>\n",
       "      <th>231</th>\n",
       "      <td>Asterová Jana</td>\n",
       "      <td>2023-04-20 02:16:59</td>\n",
       "      <td>2019</td>\n",
       "      <td>2023-04-20 02:30:01</td>\n",
       "      <td>0 days 00:13:02</td>\n",
       "    </tr>\n",
       "    <tr>\n",
       "      <th>101</th>\n",
       "      <td>Baborová Anna</td>\n",
       "      <td>2023-04-20 01:58:20</td>\n",
       "      <td>2019</td>\n",
       "      <td>2023-04-20 01:52:25</td>\n",
       "      <td>-1 days +23:54:05</td>\n",
       "    </tr>\n",
       "    <tr>\n",
       "      <th>132</th>\n",
       "      <td>Bambas Jan</td>\n",
       "      <td>2023-04-20 02:02:59</td>\n",
       "      <td>2019</td>\n",
       "      <td>2023-04-20 02:35:39</td>\n",
       "      <td>0 days 00:32:40</td>\n",
       "    </tr>\n",
       "    <tr>\n",
       "      <th>324</th>\n",
       "      <td>Barochovská Andrea</td>\n",
       "      <td>2023-04-20 03:01:25</td>\n",
       "      <td>2019</td>\n",
       "      <td>2023-04-20 02:50:05</td>\n",
       "      <td>-1 days +23:48:40</td>\n",
       "    </tr>\n",
       "  </tbody>\n",
       "</table>\n",
       "</div>"
      ],
      "text/plain": [
       "                  Jmeno       Cas zavodnika  Rok zavodu  Cas zavodnika 2020  \\\n",
       "76       Aster Vladimír 2023-04-20 01:53:25        2019 2023-04-20 02:00:19   \n",
       "231       Asterová Jana 2023-04-20 02:16:59        2019 2023-04-20 02:30:01   \n",
       "101       Baborová Anna 2023-04-20 01:58:20        2019 2023-04-20 01:52:25   \n",
       "132          Bambas Jan 2023-04-20 02:02:59        2019 2023-04-20 02:35:39   \n",
       "324  Barochovská Andrea 2023-04-20 03:01:25        2019 2023-04-20 02:50:05   \n",
       "\n",
       "                Zmena  \n",
       "76    0 days 00:06:54  \n",
       "231   0 days 00:13:02  \n",
       "101 -1 days +23:54:05  \n",
       "132   0 days 00:32:40  \n",
       "324 -1 days +23:48:40  "
      ]
     },
     "execution_count": 26,
     "metadata": {},
     "output_type": "execute_result"
    }
   ],
   "source": [
    "df = df.dropna()\n",
    "df.head()"
   ]
  },
  {
   "cell_type": "markdown",
   "metadata": {},
   "source": [
    "- Vypočítej rozdíl mezi časy závodníka a převeď ho na sekundy (postup jsme si ukazovali v lekci). Dále spočítej průměrnou změnu. Vyšlo i kladné nebo záporné číslo? A co to znamená.\n"
   ]
  },
  {
   "cell_type": "code",
   "execution_count": 29,
   "metadata": {},
   "outputs": [
    {
     "data": {
      "text/plain": [
       "583.7731958762887"
      ]
     },
     "execution_count": 29,
     "metadata": {},
     "output_type": "execute_result"
    }
   ],
   "source": [
    "df[\"Zmena\"] = df[\"Cas zavodnika 2020\"] - df[\"Cas zavodnika\"]\n",
    "\n",
    "df[\"Zmena v sekundach\"] = df[\"Zmena\"].dt.total_seconds()\n",
    "df[\"Zmena v sekundach\"].mean()\n",
    "\n",
    "df.head()"
   ]
  },
  {
   "attachments": {},
   "cell_type": "markdown",
   "metadata": {},
   "source": [
    "### Výsledek\n",
    "\n",
    "Mělo by ti vyjít, že průměrná změna je asi 584 sekund. To, jestli je číslo kladné nebo záporné záleží na výpočtu rozdílu. Při výpočtu `df[\"Cas zavodnika 2020\"] - df[\"Cas zavodnika\"]` by číslo mělo být kladné a znamená zhoršení (v roce 2020 závodníci běželi déle, čili se zhoršili). Při výpočtu `df[\"Cas zavodnika\"] - df[\"Cas zavodnika 2020\"]` pak vyjde rozdíl záporný (v roce 2019 běželi závodníci kratší čas, proto došlo ke zhoršení).\n",
    "\n"
   ]
  },
  {
   "cell_type": "markdown",
   "metadata": {},
   "source": [
    "### Bonus\n",
    "\n",
    "- Rozděl pomocí funkce `cut()` závodníky na ty, kteří se zlepšili a ty, kteří se zhoršili. Jako hranice můžeš využít \"mínus nekonečno\" (`float(\"-inf\")`) a \"plus nekonečno\" (`float(\"inf\")`). Dále pomocí agregace zjisti počty závodníků, kteří se zlepšili a kteří se naopak zhoršili"
   ]
  },
  {
   "cell_type": "code",
   "execution_count": 44,
   "metadata": {},
   "outputs": [
    {
     "data": {
      "text/html": [
       "<div>\n",
       "<style scoped>\n",
       "    .dataframe tbody tr th:only-of-type {\n",
       "        vertical-align: middle;\n",
       "    }\n",
       "\n",
       "    .dataframe tbody tr th {\n",
       "        vertical-align: top;\n",
       "    }\n",
       "\n",
       "    .dataframe thead th {\n",
       "        text-align: right;\n",
       "    }\n",
       "</style>\n",
       "<table border=\"1\" class=\"dataframe\">\n",
       "  <thead>\n",
       "    <tr style=\"text-align: right;\">\n",
       "      <th></th>\n",
       "      <th>Jmeno</th>\n",
       "      <th>Cas zavodnika</th>\n",
       "      <th>Rok zavodu</th>\n",
       "      <th>Cas zavodnika 2020</th>\n",
       "      <th>Zmena</th>\n",
       "      <th>Zmena v sekundach</th>\n",
       "      <th>Zmena Text</th>\n",
       "    </tr>\n",
       "  </thead>\n",
       "  <tbody>\n",
       "    <tr>\n",
       "      <th>76</th>\n",
       "      <td>Aster Vladimír</td>\n",
       "      <td>2023-04-20 01:53:25</td>\n",
       "      <td>2019</td>\n",
       "      <td>2023-04-20 02:00:19</td>\n",
       "      <td>0 days 00:06:54</td>\n",
       "      <td>414.0</td>\n",
       "      <td>zhorsil se</td>\n",
       "    </tr>\n",
       "    <tr>\n",
       "      <th>231</th>\n",
       "      <td>Asterová Jana</td>\n",
       "      <td>2023-04-20 02:16:59</td>\n",
       "      <td>2019</td>\n",
       "      <td>2023-04-20 02:30:01</td>\n",
       "      <td>0 days 00:13:02</td>\n",
       "      <td>782.0</td>\n",
       "      <td>zhorsil se</td>\n",
       "    </tr>\n",
       "    <tr>\n",
       "      <th>101</th>\n",
       "      <td>Baborová Anna</td>\n",
       "      <td>2023-04-20 01:58:20</td>\n",
       "      <td>2019</td>\n",
       "      <td>2023-04-20 01:52:25</td>\n",
       "      <td>-1 days +23:54:05</td>\n",
       "      <td>-355.0</td>\n",
       "      <td>zlepsil se</td>\n",
       "    </tr>\n",
       "    <tr>\n",
       "      <th>132</th>\n",
       "      <td>Bambas Jan</td>\n",
       "      <td>2023-04-20 02:02:59</td>\n",
       "      <td>2019</td>\n",
       "      <td>2023-04-20 02:35:39</td>\n",
       "      <td>0 days 00:32:40</td>\n",
       "      <td>1960.0</td>\n",
       "      <td>zhorsil se</td>\n",
       "    </tr>\n",
       "    <tr>\n",
       "      <th>324</th>\n",
       "      <td>Barochovská Andrea</td>\n",
       "      <td>2023-04-20 03:01:25</td>\n",
       "      <td>2019</td>\n",
       "      <td>2023-04-20 02:50:05</td>\n",
       "      <td>-1 days +23:48:40</td>\n",
       "      <td>-680.0</td>\n",
       "      <td>zlepsil se</td>\n",
       "    </tr>\n",
       "  </tbody>\n",
       "</table>\n",
       "</div>"
      ],
      "text/plain": [
       "                  Jmeno       Cas zavodnika  Rok zavodu  Cas zavodnika 2020  \\\n",
       "76       Aster Vladimír 2023-04-20 01:53:25        2019 2023-04-20 02:00:19   \n",
       "231       Asterová Jana 2023-04-20 02:16:59        2019 2023-04-20 02:30:01   \n",
       "101       Baborová Anna 2023-04-20 01:58:20        2019 2023-04-20 01:52:25   \n",
       "132          Bambas Jan 2023-04-20 02:02:59        2019 2023-04-20 02:35:39   \n",
       "324  Barochovská Andrea 2023-04-20 03:01:25        2019 2023-04-20 02:50:05   \n",
       "\n",
       "                Zmena  Zmena v sekundach  Zmena Text  \n",
       "76    0 days 00:06:54              414.0  zhorsil se  \n",
       "231   0 days 00:13:02              782.0  zhorsil se  \n",
       "101 -1 days +23:54:05             -355.0  zlepsil se  \n",
       "132   0 days 00:32:40             1960.0  zhorsil se  \n",
       "324 -1 days +23:48:40             -680.0  zlepsil se  "
      ]
     },
     "execution_count": 44,
     "metadata": {},
     "output_type": "execute_result"
    }
   ],
   "source": [
    "# Bonus\n",
    "df[\"Zmena Text\"] = pandas.cut(df[\"Zmena v sekundach\"], bins=[float(\"-inf\"), 0 , float(\"inf\")], labels=[\"zlepsil se\", \"zhorsil se\"])\n",
    "df.head()"
   ]
  },
  {
   "attachments": {},
   "cell_type": "markdown",
   "metadata": {},
   "source": [
    "Dále pomocí agregace zjisti počty závodníků, kteří se zlepšili a kteří se naopak zhoršili."
   ]
  },
  {
   "cell_type": "code",
   "execution_count": 46,
   "metadata": {},
   "outputs": [
    {
     "data": {
      "text/plain": [
       "Zmena Text\n",
       "zlepsil se    11\n",
       "zhorsil se    86\n",
       "dtype: int64"
      ]
     },
     "execution_count": 46,
     "metadata": {},
     "output_type": "execute_result"
    }
   ],
   "source": [
    "df.groupby(\"Zmena Text\").size()\n"
   ]
  }
 ],
 "metadata": {
  "kernelspec": {
   "display_name": "venv",
   "language": "python",
   "name": "python3"
  },
  "language_info": {
   "codemirror_mode": {
    "name": "ipython",
    "version": 3
   },
   "file_extension": ".py",
   "mimetype": "text/x-python",
   "name": "python",
   "nbconvert_exporter": "python",
   "pygments_lexer": "ipython3",
   "version": "3.10.1"
  },
  "orig_nbformat": 4
 },
 "nbformat": 4,
 "nbformat_minor": 2
}
