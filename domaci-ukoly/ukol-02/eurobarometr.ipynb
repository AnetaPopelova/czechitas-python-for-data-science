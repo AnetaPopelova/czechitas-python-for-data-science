{
 "cells": [
  {
   "attachments": {},
   "cell_type": "markdown",
   "metadata": {},
   "source": [
    "# Eurobarometr\n",
    "\n",
    "Tentokrát budeme pracovat s daty z výzkumu veřejného mínění Eurobarometr. Ten je realizován v cca 40 zemích a lidé jsou v něm pravidelně tázání na řadu otázek. My se podíváme na tři z nich.\n",
    "\n",
    "Přehled států EU, které jsou v průzkumu, najdeš v souboru [countries.csv](soubory_02/countries.csv). V první části úkolu můžeš pracovat se všemi státy nebo jen pro státy EU - záleží na tobě. Ve druhé a třetí části pracuj pouze se státy EU.\n",
    "\n"
   ]
  },
  {
   "cell_type": "code",
   "execution_count": 1,
   "metadata": {},
   "outputs": [],
   "source": [
    "import pandas\n",
    "from scipy import stats"
   ]
  },
  {
   "attachments": {},
   "cell_type": "markdown",
   "metadata": {},
   "source": [
    "## Inflace\n",
    "\n",
    "V souboru `ukol_02_a.csv` najdeš procenta lidí, kteří považují inflaci a růst životních nákladů za jeden ze svých nejzávažnějších problémů. \n",
    "\n",
    "Data jsou za dvě období - léto 2022 (sloupec 97) a zima 2022/2023 (sloupec 98). \n",
    "\n",
    "Ověř, zda se procento lidí, kteří řadí inflaci mezi 2 své nejzávažnější problémy, změnilo.\n",
    "\n",
    "Nejprve uvažuji všechny státy v průzkumu.\n",
    "\n"
   ]
  },
  {
   "cell_type": "code",
   "execution_count": 2,
   "metadata": {},
   "outputs": [],
   "source": [
    "data_a = pandas.read_csv(\"ukol_02_a.csv\")"
   ]
  },
  {
   "attachments": {},
   "cell_type": "markdown",
   "metadata": {},
   "source": [
    "Je vhodné provést následující postup:\n",
    "\n",
    "- Test normality obou skupin dat. Podle toho zjistíš, zda je lepší provést parametrický nebo neparametrický test.\n"
   ]
  },
  {
   "cell_type": "code",
   "execution_count": 3,
   "metadata": {},
   "outputs": [],
   "source": [
    "# Hypotézy jsou obdobné, pouze jednou se týkají dat z léta 2022 a jednou ze zimy 2022/2023.\n",
    "\n",
    "# - H0: Procento lidí, kteří řadí inflaci mezi své největší problémy, má normální rozdělení\n",
    "# - H1: Procento lidí, kteří řadí inflaci mezi své největší problémy, nemá normální rozdělení"
   ]
  },
  {
   "cell_type": "code",
   "execution_count": 4,
   "metadata": {},
   "outputs": [
    {
     "data": {
      "text/plain": [
       "ShapiroResult(statistic=0.9803107976913452, pvalue=0.6873015761375427)"
      ]
     },
     "execution_count": 4,
     "metadata": {},
     "output_type": "execute_result"
    }
   ],
   "source": [
    "res = stats.shapiro(data_a[\"98\"])\n",
    "res"
   ]
  },
  {
   "cell_type": "code",
   "execution_count": 5,
   "metadata": {},
   "outputs": [
    {
     "data": {
      "text/plain": [
       "ShapiroResult(statistic=0.9694535732269287, pvalue=0.33091598749160767)"
      ]
     },
     "execution_count": 5,
     "metadata": {},
     "output_type": "execute_result"
    }
   ],
   "source": [
    "res = stats.shapiro(data_a[\"97\"])\n",
    "res"
   ]
  },
  {
   "cell_type": "code",
   "execution_count": 6,
   "metadata": {},
   "outputs": [],
   "source": [
    "# P-hodnota > 0.05, tj. p-hodnota je větší než 5% hladina významnosti.\n",
    "# Nezamítáme hypotézu normálního rozdělení."
   ]
  },
  {
   "attachments": {},
   "cell_type": "markdown",
   "metadata": {},
   "source": [
    "- Formulace hypotéz testu.\n"
   ]
  },
  {
   "cell_type": "code",
   "execution_count": 7,
   "metadata": {},
   "outputs": [],
   "source": [
    "# H0: Průměrné procento lidí, které považuje inflaci za jeden ze svých největších problémů, se nezměnilo.\n",
    "# H1: Průměrné procento lidí, které považuje inflaci za jeden ze svých největších problémů, se změnilo."
   ]
  },
  {
   "attachments": {},
   "cell_type": "markdown",
   "metadata": {},
   "source": [
    "- Výběr vhodného testu. \n",
    "\n",
    "Vhodný je test, který jsme na lekci nepoužívali, ale je v seznamu testů, který je součástí lekce 6. \n",
    "\n",
    "Důležité je uvědomit si, že **porovnáváme tu samou skupinu států ve dvou různých časových obdobích**.\n"
   ]
  },
  {
   "cell_type": "code",
   "execution_count": 8,
   "metadata": {},
   "outputs": [
    {
     "data": {
      "text/plain": [
       "TtestResult(statistic=3.868878598419143, pvalue=0.00039381722579047456, df=40)"
      ]
     },
     "execution_count": 8,
     "metadata": {},
     "output_type": "execute_result"
    }
   ],
   "source": [
    "# Jedná se o párová pozorování (jeden stát, dvě období).\n",
    "# Z toho důvodu použiju párový t-test.\n",
    "\n",
    "stats.ttest_rel(data_a[\"97\"], data_a[\"98\"])"
   ]
  },
  {
   "attachments": {},
   "cell_type": "markdown",
   "metadata": {},
   "source": [
    "- Formulace výsledek testu (na základě p-hodnoty)."
   ]
  },
  {
   "cell_type": "code",
   "execution_count": 9,
   "metadata": {},
   "outputs": [],
   "source": [
    "# p-hodnota je menší než 0.05. Zamítáme nulovou hypotézu.\n",
    "# Průměrné procento lidí, kteří považují inflaci za jeden ze svých hlavních problémů, se změnilo."
   ]
  },
  {
   "attachments": {},
   "cell_type": "markdown",
   "metadata": {},
   "source": [
    "Pro státy EU se p-hodnoty liší, ale postup a závěry jsou stejné."
   ]
  },
  {
   "cell_type": "code",
   "execution_count": 10,
   "metadata": {},
   "outputs": [
    {
     "name": "stdout",
     "output_type": "stream",
     "text": [
      "ShapiroResult(statistic=0.9399220943450928, pvalue=0.12130911648273468)\n",
      "ShapiroResult(statistic=0.9521530270576477, pvalue=0.24169281125068665)\n"
     ]
    },
    {
     "data": {
      "text/plain": [
       "TtestResult(statistic=3.4869444202944764, pvalue=0.001753385752609159, df=26)"
      ]
     },
     "execution_count": 10,
     "metadata": {},
     "output_type": "execute_result"
    }
   ],
   "source": [
    "countries = pandas.read_csv(\"countries.csv\")\n",
    "\n",
    "data_a = pandas.merge(data_a, countries)\n",
    "print(stats.shapiro(data_a[\"98\"]))\n",
    "print(stats.shapiro(data_a[\"97\"]))\n",
    "stats.ttest_rel(data_a[\"97\"], data_a[\"98\"])"
   ]
  },
  {
   "attachments": {},
   "cell_type": "markdown",
   "metadata": {},
   "source": [
    "---"
   ]
  },
  {
   "attachments": {},
   "cell_type": "markdown",
   "metadata": {},
   "source": [
    "## Důvěra ve stát a v EU\n",
    "\n",
    "Ve výzkumu je dále zkoumáno, jak moc lidé věří své národní vládě a jak moc věří EU. \n",
    "\n",
    "Data jsou v souboru ukol_02_b.csv. \n"
   ]
  },
  {
   "cell_type": "code",
   "execution_count": 13,
   "metadata": {},
   "outputs": [],
   "source": [
    "data_b = pandas.read_csv(\"ukol_02_b.csv\")\n"
   ]
  },
  {
   "attachments": {},
   "cell_type": "markdown",
   "metadata": {},
   "source": [
    "\n",
    "Číslo udává procento lidí, kteří dané instituci věří. \n"
   ]
  },
  {
   "attachments": {},
   "cell_type": "markdown",
   "metadata": {},
   "source": [
    "\n",
    "Ověř, zda existuje korelace mezi procentem lidí, které věří EU v každé ze zemí, a procentem lidí, kteří EU nevěří.\n",
    "\n"
   ]
  },
  {
   "cell_type": "code",
   "execution_count": 12,
   "metadata": {},
   "outputs": [
    {
     "data": {
      "text/plain": [
       "ShapiroResult(statistic=0.9592156410217285, pvalue=0.14764708280563354)"
      ]
     },
     "execution_count": 12,
     "metadata": {},
     "output_type": "execute_result"
    }
   ],
   "source": [
    "# H0: Procento lidí, kteří věří své národní vládě, má normální rozdělení\n",
    "# H1: Procento lidí, kteří věří své národní vládě, nemá normální rozdělení\n",
    "\n",
    "res = stats.shapiro(data_b[\"National Government Trust\"])\n",
    "res"
   ]
  },
  {
   "cell_type": "code",
   "execution_count": 13,
   "metadata": {},
   "outputs": [
    {
     "data": {
      "text/plain": [
       "ShapiroResult(statistic=0.9718669056892395, pvalue=0.3959173262119293)"
      ]
     },
     "execution_count": 13,
     "metadata": {},
     "output_type": "execute_result"
    }
   ],
   "source": [
    "# H0: Procento lidí, kteří věří EU, má normální rozdělení\n",
    "# H1: Procento lidí, kteří věří EU, nemá normální rozdělení\n",
    "\n",
    "res = stats.shapiro(data_b[\"EU Trust\"])\n",
    "res"
   ]
  },
  {
   "cell_type": "code",
   "execution_count": 14,
   "metadata": {},
   "outputs": [],
   "source": [
    "# Normalitu nezamítáme, použijeme tedy Pearsonův test"
   ]
  },
  {
   "cell_type": "code",
   "execution_count": 15,
   "metadata": {},
   "outputs": [
    {
     "data": {
      "text/plain": [
       "PearsonRResult(statistic=0.4620107002065491, pvalue=0.0023585837128714308)"
      ]
     },
     "execution_count": 15,
     "metadata": {},
     "output_type": "execute_result"
    }
   ],
   "source": [
    "# H0: Důvěra v národní vládu a důvěra v EU jsou lineárně nezávislé\n",
    "# H1: Důvěra v národní vládu a důvěra v EU jsou lineárně závislé\n",
    "\n",
    "res = stats.pearsonr(data_b[\"National Government Trust\"], data_b[\"EU Trust\"])\n",
    "res\n",
    "\n",
    "# Zamítáme nulovou hypotézu.\n",
    "# Existuje lineární závislost mezi důvěrou v EU a důvěrou v národní vládu."
   ]
  },
  {
   "attachments": {},
   "cell_type": "markdown",
   "metadata": {},
   "source": [
    "---"
   ]
  },
  {
   "attachments": {},
   "cell_type": "markdown",
   "metadata": {},
   "source": [
    "## Důvěra ve stát a euro\n",
    "\n",
    "Nakonec si rozdělíme státy EU na dvě skupiny - státy v eurozóně a státy mimo ni. \n",
    "\n",
    "Jak je to s důvěrou v EU? Důvěřují EU více lidé, kteří žijí ve státech platící eurem? \n",
    "\n",
    "Využij znovu data o důvěře v EU ze souboru `ukol_02_b.csv` a rozděl státy na ty, které jsou v eurozóně, a ty, které jsou mimo ni. \n",
    "\n",
    "Státy můžeš rozdělit s využitím tabulky v souboru `countries.csv`.\n"
   ]
  },
  {
   "cell_type": "code",
   "execution_count": 16,
   "metadata": {},
   "outputs": [],
   "source": [
    "data_b = pandas.merge(data_b, countries)\n",
    "\n",
    "data_b_euro = data_b[data_b[\"Euro\"] == 1]\n",
    "data_b_not_euro = data_b[data_b[\"Euro\"] == 0]"
   ]
  },
  {
   "attachments": {},
   "cell_type": "markdown",
   "metadata": {},
   "source": [
    "Porovnej, jak se liší důvěra v EU v těchto dvou skupinách zemí. "
   ]
  },
  {
   "cell_type": "code",
   "execution_count": 17,
   "metadata": {},
   "outputs": [],
   "source": [
    "# H0: Průměrná důvěra v EU se neliší ve státech v eurozónu a ve státech mimo eurozónu\n",
    "# H1: Průměrná důvěra v EU se liší ve státech v eurozónu a ve státech mimo eurozónu"
   ]
  },
  {
   "cell_type": "code",
   "execution_count": 18,
   "metadata": {},
   "outputs": [
    {
     "data": {
      "text/plain": [
       "Ttest_indResult(statistic=-0.33471431258258433, pvalue=0.740632683274883)"
      ]
     },
     "execution_count": 18,
     "metadata": {},
     "output_type": "execute_result"
    }
   ],
   "source": [
    "stats.ttest_ind(data_b_euro[\"EU Trust\"], data_b_not_euro[\"EU Trust\"])\n",
    "\n",
    "# p-hodnota je vyšší než 0.05, nezamítáme nulovou hypotézu.\n",
    "# Neprokázali jsme, že by se důvěra v EU lišila."
   ]
  },
  {
   "attachments": {},
   "cell_type": "markdown",
   "metadata": {},
   "source": [
    "## Doplnění"
   ]
  },
  {
   "cell_type": "code",
   "execution_count": 19,
   "metadata": {},
   "outputs": [
    {
     "data": {
      "image/png": "[encoded data removed]",
      "text/plain": [
       "<Figure size 640x480 with 1 Axes>"
      ]
     },
     "metadata": {},
     "output_type": "display_data"
    }
   ],
   "source": [
    "res = data_a[\"98\"].plot.kde()"
   ]
  },
  {
   "cell_type": "code",
   "execution_count": 20,
   "metadata": {},
   "outputs": [
    {
     "data": {
      "text/plain": [
       "<Axes: ylabel='Density'>"
      ]
     },
     "execution_count": 20,
     "metadata": {},
     "output_type": "execute_result"
    },
    {
     "data": {
      "image/png": "[encoded data removed]",
      "text/plain": [
       "<Figure size 640x480 with 1 Axes>"
      ]
     },
     "metadata": {},
     "output_type": "display_data"
    }
   ],
   "source": [
    "data_a[\"97\"].plot.kde()"
   ]
  }
 ],
 "metadata": {
  "kernelspec": {
   "display_name": "Python 3",
   "language": "python",
   "name": "python3"
  },
  "language_info": {
   "codemirror_mode": {
    "name": "ipython",
    "version": 3
   },
   "file_extension": ".py",
   "mimetype": "text/x-python",
   "name": "python",
   "nbconvert_exporter": "python",
   "pygments_lexer": "ipython3",
   "version": "3.9.6"
  },
  "orig_nbformat": 4
 },
 "nbformat": 4,
 "nbformat_minor": 2
}
